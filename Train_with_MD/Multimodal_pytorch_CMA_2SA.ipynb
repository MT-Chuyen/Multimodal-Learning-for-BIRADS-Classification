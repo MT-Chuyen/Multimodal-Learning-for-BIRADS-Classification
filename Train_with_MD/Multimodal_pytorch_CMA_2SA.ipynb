{
 "cells": [
  {
   "cell_type": "code",
   "execution_count": 1,
   "metadata": {
    "executionInfo": {
     "elapsed": 19333,
     "status": "ok",
     "timestamp": 1727182615049,
     "user": {
      "displayName": "Chuyên Mai Tất",
      "userId": "15723878358474830250"
     },
     "user_tz": -420
    },
    "id": "sQR-CtYAGZd-"
   },
   "outputs": [],
   "source": [
    "import os\n",
    "import cv2\n",
    "import numpy as np\n",
    "import torch\n",
    "import pandas as pd\n",
    "from torch.utils.data import Dataset\n",
    "from sklearn.preprocessing import LabelEncoder\n",
    "from torchvision import transforms\n",
    "\n",
    "# Environment variable\n",
    " \n",
    "\n",
    "train_label = '/media/mountHDD3/data_storage/biomedical_data/Dataset/VinDr-Mammo/Processed/balanced_train_df.csv'\n",
    "val_label = '/media/mountHDD3/data_storage/biomedical_data/Dataset/VinDr-Mammo/Processed/balanced_val_df.csv'\n",
    "test_label = '/media/mountHDD3/data_storage/biomedical_data/Dataset/VinDr-Mammo/Processed/balanced_test_df.csv'\n",
    "\n",
    "target_size = (224, 224)\n",
    "\n",
    "# Custom dataset class for mammography data\n",
    "class MammographyDataset(Dataset):\n",
    "    def __init__(self, df_path, img_dir, target_size, transform=None):\n",
    "        self.df = pd.read_csv(df_path)\n",
    "        self.img_dir = img_dir\n",
    "        self.target_size = target_size\n",
    "        self.transform = transform\n",
    "        self.images, self.metadata, self.labels = self.load_data()\n",
    "\n",
    "    def load_data(self):\n",
    "        images, labels = [], []\n",
    "        age, density = [], []\n",
    "        \n",
    "        le_birads = LabelEncoder()  # LabelEncoder for 'breast_birads'\n",
    "        le_density = LabelEncoder()  # LabelEncoder for 'breast_density'\n",
    "        \n",
    "        for _, row in self.df.iterrows():\n",
    "            img = cv2.imread(os.path.join(self.img_dir, row['image_id']+'.png'))\n",
    "            if self.transform:\n",
    "                img = self.transform(img)\n",
    "            images.append(img)\n",
    "            labels.append(row['breast_birads'])  # Add breast_birads label\n",
    "            age.append(float(row['age']))  # Add age\n",
    "            density.append(row['breast_density'])  # Add breast density\n",
    "\n",
    "        labels = le_birads.fit_transform(labels)  # Encode breast_birads\n",
    "        labels = torch.tensor(labels).long()  # Convert labels to tensor\n",
    "        \n",
    "        density_encoded = le_density.fit_transform(density)  # Encode breast_density\n",
    "        density_tensor = torch.tensor(density_encoded).float()  # Convert encoded density to tensor\n",
    "        \n",
    "        metadata = {\n",
    "            'age': torch.tensor(age).float(),  # Convert age to tensor\n",
    "            'breast_density': density_tensor,  # Use encoded breast_density tensor\n",
    "        }\n",
    "        return images, metadata, labels\n",
    "\n",
    "    def __len__(self):\n",
    "        return len(self.df)\n",
    "\n",
    "    def __getitem__(self, idx):\n",
    "        return self.images[idx], self.metadata['age'][idx], self.metadata['breast_density'][idx], self.labels[idx]\n"
   ]
  },
  {
   "cell_type": "code",
   "execution_count": 2,
   "metadata": {
    "executionInfo": {
     "elapsed": 7285,
     "status": "ok",
     "timestamp": 1727183016100,
     "user": {
      "displayName": "Chuyên Mai Tất",
      "userId": "15723878358474830250"
     },
     "user_tz": -420
    },
    "id": "G_yChHt1Gkqy"
   },
   "outputs": [],
   "source": [
    "# Define data transformations\n",
    "transform = transforms.Compose([\n",
    "    transforms.ToPILImage(),\n",
    "    transforms.Resize(target_size),\n",
    "    transforms.ToTensor(),\n",
    "    transforms.Normalize(mean=[0.485, 0.456, 0.406], std=[0.229, 0.224, 0.225]),\n",
    "])\n",
    "\n",
    "main_img_dir= '/media/mountHDD3/data_storage/biomedical_data/Dataset/VinDr-Mammo-PNG-MAMMO-CLIP-CROPPED-TEXT_REMOVE-FLIP-MEDIAN-CLAHE-UNSHARP'\n",
    "train_dataset = MammographyDataset(train_label, main_img_dir, target_size, transform=transform)\n",
    "test_dataset = MammographyDataset(test_label, main_img_dir, target_size, transform=transform)\n",
    "val_dataset = MammographyDataset(val_label, main_img_dir, target_size, transform=transform)\n"
   ]
  },
  {
   "cell_type": "code",
   "execution_count": 3,
   "metadata": {},
   "outputs": [],
   "source": [
    "from torch.utils.data import DataLoader\n",
    "\n",
    "# Tạo DataLoader cho train, val, test\n",
    "train_loader = DataLoader(train_dataset, batch_size=32, shuffle=True)\n",
    "val_loader = DataLoader(val_dataset, batch_size=32, shuffle=False)\n",
    "test_loader = DataLoader(test_dataset, batch_size=32, shuffle=False)\n"
   ]
  },
  {
   "cell_type": "code",
   "execution_count": null,
   "metadata": {},
   "outputs": [],
   "source": [
    "import matplotlib.pyplot as plt\n",
    "\n",
    "# Lấy một batch mẫu từ train_loader\n",
    "images, age, density, labels = next(iter(train_loader))\n",
    "\n",
    "# Chọn một mẫu để hiển thị (ở đây chọn mẫu đầu tiên trong batch)\n",
    "img = images[0].permute(1, 2, 0).numpy()  # Đổi thứ tự từ (C, H, W) thành (H, W, C) để vẽ ảnh\n",
    "img = img * [0.229, 0.224, 0.225] + [0.485, 0.456, 0.406]  # Denormalize the image\n",
    "\n",
    "metadata = {\n",
    "    'Age': age[0].item(),\n",
    "    'Density': density[0].item(),\n",
    "    'Label': labels[5].item()  # Class label (được mã hóa dưới dạng số nguyên)\n",
    "}\n",
    "\n",
    "# Vẽ ảnh\n",
    "plt.imshow(img)\n",
    "plt.title(f\"Sample Image\\nMetadata: {metadata}\")\n",
    "plt.axis('off')\n",
    "plt.show()\n"
   ]
  },
  {
   "cell_type": "code",
   "execution_count": 4,
   "metadata": {},
   "outputs": [],
   "source": [
    "import torch\n",
    "import torch.nn as nn\n",
    "import torch.nn.functional as F\n",
    "from torchvision import models\n",
    "\n",
    "class SelfAttention(nn.Module):\n",
    "    def __init__(self, input_dim, hidden_dim):\n",
    "        super(SelfAttention, self).__init__()\n",
    "        self.query = nn.Linear(input_dim, hidden_dim)\n",
    "        self.key = nn.Linear(input_dim, hidden_dim)\n",
    "        self.value = nn.Linear(input_dim, hidden_dim)\n",
    "        self.softmax = nn.Softmax(dim=-1)\n",
    "\n",
    "    def forward(self, x):\n",
    "        Q = self.query(x)  # (batch_size, hidden_dim)\n",
    "        K = self.key(x)     # (batch_size, hidden_dim)\n",
    "        V = self.value(x)   # (batch_size, hidden_dim)\n",
    "\n",
    "        # Tính attention scores và áp dụng softmax\n",
    "        attention_scores = torch.matmul(Q, K.T) / (K.size(-1) ** 0.5)  # (batch_size, batch_size)\n",
    "        attention_weights = self.softmax(attention_scores)  # (batch_size, batch_size)\n",
    "\n",
    "        # Áp dụng attention vào Value\n",
    "        output = torch.matmul(attention_weights, V)  # (batch_size, hidden_dim)\n",
    "        return output\n",
    "\n",
    "class CrossModalityAttention(nn.Module):\n",
    "    def __init__(self, img_dim, meta_dim, hidden_dim):\n",
    "        super(CrossModalityAttention, self).__init__()\n",
    "        self.query_fc = nn.Linear(meta_dim, hidden_dim)\n",
    "        self.key_fc = nn.Linear(img_dim, hidden_dim)\n",
    "        self.value_fc = nn.Linear(img_dim, hidden_dim)\n",
    "        self.softmax = nn.Softmax(dim=-1)\n",
    "\n",
    "    def forward(self, img_features, meta_features):\n",
    "        Q = self.query_fc(meta_features)  # (batch_size, hidden_dim)\n",
    "        K = self.key_fc(img_features)     # (batch_size, hidden_dim)\n",
    "        V = self.value_fc(img_features)   # (batch_size, hidden_dim)\n",
    "\n",
    "        attention_scores = torch.matmul(Q, K.T) / (K.size(-1) ** 0.5)\n",
    "        attention_weights = self.softmax(attention_scores)\n",
    "\n",
    "        modality_interaction = torch.matmul(attention_weights, V)  # (batch_size, hidden_dim)\n",
    "        return modality_interaction\n",
    "\n",
    "class MultimodalModel(nn.Module):\n",
    "    def __init__(self):\n",
    "        super(MultimodalModel, self).__init__()\n",
    "\n",
    "        # MobileNetV2 cho nhánh ảnh\n",
    "        self.image_model = models.mobilenet_v2(weights='DEFAULT')\n",
    "        self.image_model.classifier = nn.Identity()\n",
    "\n",
    "        # Self-Attention cho nhánh ảnh\n",
    "        self.self_attention_image = SelfAttention(input_dim=1280, hidden_dim=512)\n",
    "\n",
    "        # Metadata layers\n",
    "        self.age_norm = nn.BatchNorm1d(1)\n",
    "        self.breast_density_emb = nn.Embedding(4, 4)\n",
    "\n",
    "        # Self-Attention cho nhánh metadata\n",
    "        self.self_attention_metadata = SelfAttention(input_dim=5, hidden_dim=512)\n",
    "\n",
    "        # Fully connected layers\n",
    "        self.fc_image = nn.Linear(512, 512)\n",
    "        self.fc_metadata = nn.Linear(512, 512)\n",
    "\n",
    "        # Cross-Modality Attention\n",
    "        self.cma = CrossModalityAttention(img_dim=512, meta_dim=512, hidden_dim=256)\n",
    "\n",
    "        # Classification layer\n",
    "        self.fc_combined = nn.Linear(256, 5)\n",
    "\n",
    "    def forward(self, x_image, age, breast_density):\n",
    "        # Xử lý nhánh ảnh\n",
    "        x_image = self.image_model(x_image)  # (batch_size, 1280)\n",
    "        x_image = self.self_attention_image(x_image)  # (batch_size, 512)\n",
    "        x_image = F.relu(self.fc_image(x_image))  # (batch_size, 512)\n",
    "\n",
    "        # Xử lý nhánh metadata\n",
    "        age_norm = self.age_norm(age.view(-1, 1))\n",
    "        breast_density = breast_density.long()\n",
    "        breast_density_emb = self.breast_density_emb(breast_density)\n",
    "        metadata = torch.cat([age_norm, breast_density_emb], dim=1)  # (batch_size, 5)\n",
    "        x_metadata = self.self_attention_metadata(metadata)  # (batch_size, 512)\n",
    "        x_metadata = F.relu(self.fc_metadata(x_metadata))  # (batch_size, 512)\n",
    "\n",
    "        # Áp dụng Cross-Modality Attention\n",
    "        cma_output = self.cma(x_image, x_metadata)  # (batch_size, 256)\n",
    "\n",
    "        # Phân loại với fully connected layer cuối\n",
    "        output = self.fc_combined(cma_output)  # (batch_size, 5)\n",
    "        return output\n",
    "\n",
    "# # Khởi tạo và kiểm tra mô hình\n",
    "# model = MultimodalModel()\n",
    "# x_image = torch.randn(32, 3, 224, 224)  # Batch 32, 3 channels, 224x224\n",
    "# age = torch.randn(32)  # Tuổi\n",
    "# breast_density = torch.randint(0, 4, (32,))  # Giá trị breast_density\n",
    "\n",
    "# # Forward pass\n",
    "# output = model(x_image, age, breast_density)\n",
    "# print(f\"Output shape: {output.shape}\")  # Kết quả: (32, 5)\n"
   ]
  },
  {
   "cell_type": "code",
   "execution_count": 5,
   "metadata": {},
   "outputs": [
    {
     "ename": "NameError",
     "evalue": "name 'epoch' is not defined",
     "output_type": "error",
     "traceback": [
      "\u001b[0;31m---------------------------------------------------------------------------\u001b[0m",
      "\u001b[0;31mNameError\u001b[0m                                 Traceback (most recent call last)",
      "Cell \u001b[0;32mIn[5], line 3\u001b[0m\n\u001b[1;32m      1\u001b[0m \u001b[38;5;28;01mfrom\u001b[39;00m \u001b[38;5;21;01mtqdm\u001b[39;00m \u001b[38;5;28;01mimport\u001b[39;00m tqdm \n\u001b[1;32m      2\u001b[0m num_epochs \u001b[38;5;241m=\u001b[39m \u001b[38;5;241m2\u001b[39m\n\u001b[0;32m----> 3\u001b[0m \u001b[38;5;28;01mfor\u001b[39;00m batch \u001b[38;5;129;01min\u001b[39;00m tqdm(train_loader, desc\u001b[38;5;241m=\u001b[39m\u001b[38;5;124mf\u001b[39m\u001b[38;5;124m\"\u001b[39m\u001b[38;5;124mEpoch \u001b[39m\u001b[38;5;132;01m{\u001b[39;00m\u001b[43mepoch\u001b[49m\u001b[38;5;241m+\u001b[39m\u001b[38;5;241m1\u001b[39m\u001b[38;5;132;01m}\u001b[39;00m\u001b[38;5;124m/\u001b[39m\u001b[38;5;132;01m{\u001b[39;00mnum_epochs\u001b[38;5;132;01m}\u001b[39;00m\u001b[38;5;124m [Train]\u001b[39m\u001b[38;5;124m\"\u001b[39m):\n\u001b[1;32m      4\u001b[0m     images, age, density, labels \u001b[38;5;241m=\u001b[39m batch\n\u001b[1;32m      6\u001b[0m     \u001b[38;5;66;03m# In ra kích thước và giá trị của các tensor\u001b[39;00m\n",
      "\u001b[0;31mNameError\u001b[0m: name 'epoch' is not defined"
     ]
    }
   ],
   "source": [
    "from tqdm import tqdm \n",
    "num_epochs = 2\n",
    "for batch in tqdm(train_loader, desc=f\"Epoch {epoch+1}/{num_epochs} [Train]\"):\n",
    "    images, age, density, labels = batch\n",
    "    \n",
    "    # In ra kích thước và giá trị của các tensor\n",
    "    print(\"Images shape:\", images.shape)\n",
    "    print(\"Age shape:\", age.shape)\n",
    "    print(\"Density shape:\", density.shape)\n",
    "    print(\"Labels shape:\", labels.shape)\n",
    "    \n",
    "    # In ra một vài giá trị cụ thể để kiểm tra\n",
    "    # print(\"Sample images:\", images[0])  # In ra hình ảnh đầu tiên trong batch\n",
    "    print(\"Sample age:\", age[0])        # In ra giá trị tuổi đầu tiên trong batch\n",
    "    print(\"Sample density:\", density[0])  # In ra giá trị độ dày đầu tiên trong batch\n",
    "    print(\"Sample labels:\", labels[0])  # In ra nhãn đầu tiên trong batch\n",
    "\n",
    "    # Thêm câu lệnh break để chỉ xem một batch đầu tiên\n",
    "    break\n"
   ]
  },
  {
   "cell_type": "code",
   "execution_count": null,
   "metadata": {},
   "outputs": [],
   "source": [
    "# import numpy as np\n",
    "\n",
    "# # Giả sử bạn đã lấy nhãn từ train_loader\n",
    "# for batch in train_loader:\n",
    "#     images, age, density, labels = batch\n",
    "#     print(\"Unique labels in the batch:\", np.unique(labels.numpy()))\n",
    "\n"
   ]
  },
  {
   "cell_type": "code",
   "execution_count": 6,
   "metadata": {
    "colab": {
     "base_uri": "https://localhost:8080/",
     "height": 480
    },
    "executionInfo": {
     "elapsed": 4716,
     "status": "error",
     "timestamp": 1727183024691,
     "user": {
      "displayName": "Chuyên Mai Tất",
      "userId": "15723878358474830250"
     },
     "user_tz": -420
    },
    "id": "Gi4lXccAGm4-",
    "outputId": "79c4511e-03fc-46c5-a3c3-aea1458e7150",
    "scrolled": true
   },
   "outputs": [
    {
     "name": "stderr",
     "output_type": "stream",
     "text": [
      "Epoch 1/1 [Train]: 100%|██████████████████████████████████████████████████████████████| 411/411 [00:16<00:00, 24.38it/s]"
     ]
    },
    {
     "name": "stdout",
     "output_type": "stream",
     "text": [
      "Epoch [1/1], Loss: 1.1269, Train Accuracy: 0.5691\n"
     ]
    },
    {
     "name": "stderr",
     "output_type": "stream",
     "text": [
      "\n"
     ]
    }
   ],
   "source": [
    "import torch\n",
    "import torch.optim as optim\n",
    "import torch.nn as nn\n",
    "from sklearn.metrics import accuracy_score\n",
    "import matplotlib.pyplot as plt\n",
    "from tqdm import tqdm   \n",
    "\n",
    " \n",
    "model = MultimodalModel()   \n",
    "device = torch.device(\"cuda\" if torch.cuda.is_available() else \"cpu\")\n",
    "model.to(device)\n",
    " \n",
    "train_losses, val_losses = [], []\n",
    "train_accuracies, val_accuracies = [], []\n",
    " \n",
    "\n",
    "criterion = nn.CrossEntropyLoss()  # Sử dụng CrossEntropyLoss cho phân loại đa lớp\n",
    "optimizer = optim.Adam(model.parameters(), lr=1e-4)   \n",
    "\n",
    "num_epochs = 1\n",
    "\n",
    "# Bắt đầu quá trình huấn luyện\n",
    "for epoch in range(num_epochs):\n",
    "    model.train()\n",
    "    train_loss = 0\n",
    "    train_true, train_pred = [], []\n",
    " \n",
    "    for batch in tqdm(train_loader, desc=f\"Epoch {epoch+1}/{num_epochs} [Train]\"):\n",
    "        images, age, density, labels = batch\n",
    "        images, age, density, labels = (\n",
    "            images.to(device),\n",
    "            age.to(device),\n",
    "            density.to(device),\n",
    "            labels.to(device)  # Nhãn không cần chuyển đổi sang float\n",
    "        )\n",
    "\n",
    "        # Forward pass\n",
    "        outputs = model(images, age, density)\n",
    "\n",
    "        # Tính loss\n",
    "        loss = criterion(outputs, labels)   \n",
    "\n",
    "        # Dự đoán nhãn\n",
    "        _, predicted_labels = torch.max(outputs, 1)  # Lấy nhãn có xác suất cao nhất\n",
    "        train_true.extend(labels.cpu().numpy())\n",
    "        train_pred.extend(predicted_labels.cpu().numpy())  # Chuyển predicted_labels sang numpy\n",
    "\n",
    "        # Backward pass và optimize\n",
    "        optimizer.zero_grad()\n",
    "        loss.backward()\n",
    "        optimizer.step()\n",
    "\n",
    "        # Cộng dồn loss cho epoch\n",
    "        train_loss += loss.item()  # Cộng dồn giá trị loss của batch\n",
    "\n",
    "    # Tính độ chính xác trên tập train\n",
    "    train_acc = accuracy_score(train_true, train_pred)\n",
    "    train_losses.append(train_loss / len(train_loader))  # Trung bình loss\n",
    "    train_accuracies.append(train_acc)\n",
    "\n",
    "    print(f\"Epoch [{epoch + 1}/{num_epochs}], Loss: {train_loss / len(train_loader):.4f}, Train Accuracy: {train_acc:.4f}\")"
   ]
  },
  {
   "cell_type": "code",
   "execution_count": 7,
   "metadata": {},
   "outputs": [
    {
     "data": {
      "text/plain": [
       "torch.Size([31, 5])"
      ]
     },
     "execution_count": 7,
     "metadata": {},
     "output_type": "execute_result"
    }
   ],
   "source": [
    "outputs.shape"
   ]
  },
  {
   "cell_type": "code",
   "execution_count": 8,
   "metadata": {},
   "outputs": [
    {
     "data": {
      "text/plain": [
       "torch.Size([31])"
      ]
     },
     "execution_count": 8,
     "metadata": {},
     "output_type": "execute_result"
    }
   ],
   "source": [
    "labels.shape"
   ]
  },
  {
   "cell_type": "code",
   "execution_count": 13,
   "metadata": {},
   "outputs": [
    {
     "data": {
      "image/png": "[encoded data removed]",
      "text/plain": [
       "<Figure size 640x480 with 2 Axes>"
      ]
     },
     "metadata": {},
     "output_type": "display_data"
    }
   ],
   "source": [
    "plt.title(f'Confusion Matrix - Test Accuracy: {test_acc:.4f}')"
   ]
  },
  {
   "cell_type": "code",
   "execution_count": 16,
   "metadata": {},
   "outputs": [
    {
     "name": "stdout",
     "output_type": "stream",
     "text": [
      "Sample Label: 0\n",
      "Sample Output: [ 2.2370865  1.2708278 -0.6064515 -1.2224804 -3.577515 ]\n"
     ]
    }
   ],
   "source": [
    "# In một mẫu label và output\n",
    "outputs = model(images, age, density)\n",
    "\n",
    "# In một mẫu label và output\n",
    "print(\"Sample Label:\", labels[0].item())  \n",
    "print(\"Sample Output:\", outputs[0].detach().cpu().numpy())\n"
   ]
  },
  {
   "cell_type": "code",
   "execution_count": 21,
   "metadata": {},
   "outputs": [
    {
     "name": "stdout",
     "output_type": "stream",
     "text": [
      "Sample Label: 0\n",
      "Sample Output: [ 1.7648075   0.7781912  -0.18204357 -0.7883264  -3.4617345 ]\n"
     ]
    }
   ],
   "source": [
    "# In một mẫu label và output\n",
    "outputs = model(images, age, density)\n",
    "\n",
    "# In một mẫu label và output\n",
    "print(\"Sample Label:\", labels[2].item())  \n",
    "print(\"Sample Output:\", outputs[2].detach().cpu().numpy())\n"
   ]
  },
  {
   "cell_type": "markdown",
   "metadata": {},
   "source": [
    "Train lần 1\n"
   ]
  },
  {
   "cell_type": "code",
   "execution_count": 8,
   "metadata": {},
   "outputs": [
    {
     "name": "stderr",
     "output_type": "stream",
     "text": [
      "/tmp/ipykernel_16334/1316474908.py:7: FutureWarning: You are using `torch.load` with `weights_only=False` (the current default value), which uses the default pickle module implicitly. It is possible to construct malicious pickle data which will execute arbitrary code during unpickling (See https://github.com/pytorch/pytorch/blob/main/SECURITY.md#untrusted-models for more details). In a future release, the default value for `weights_only` will be flipped to `True`. This limits the functions that could be executed during unpickling. Arbitrary objects will no longer be allowed to be loaded via this mode unless they are explicitly allowlisted by the user via `torch.serialization.add_safe_globals`. We recommend you start setting `weights_only=True` for any use case where you don't have full control of the loaded file. Please open an issue on GitHub for any issues related to this experimental feature.\n",
      "  model.load_state_dict(torch.load('/media/mountHDD2/chuyenmt/Dataset/VinDr-Mammo/Processed/multimodal_model_weights.pth'))\n"
     ]
    },
    {
     "ename": "RuntimeError",
     "evalue": "Error(s) in loading state_dict for MultimodalModel:\n\tMissing key(s) in state_dict: \"cma.query_fc.weight\", \"cma.query_fc.bias\", \"cma.key_fc.weight\", \"cma.key_fc.bias\", \"cma.value_fc.weight\", \"cma.value_fc.bias\". \n\tsize mismatch for fc_combined.weight: copying a param with shape torch.Size([5, 1024]) from checkpoint, the shape in current model is torch.Size([5, 256]).",
     "output_type": "error",
     "traceback": [
      "\u001b[0;31m---------------------------------------------------------------------------\u001b[0m",
      "\u001b[0;31mRuntimeError\u001b[0m                              Traceback (most recent call last)",
      "Cell \u001b[0;32mIn[8], line 7\u001b[0m\n\u001b[1;32m      4\u001b[0m model\u001b[38;5;241m.\u001b[39mto(device)\n\u001b[1;32m      6\u001b[0m \u001b[38;5;66;03m# Load trọng số mô hình đã lưu\u001b[39;00m\n\u001b[0;32m----> 7\u001b[0m \u001b[43mmodel\u001b[49m\u001b[38;5;241;43m.\u001b[39;49m\u001b[43mload_state_dict\u001b[49m\u001b[43m(\u001b[49m\u001b[43mtorch\u001b[49m\u001b[38;5;241;43m.\u001b[39;49m\u001b[43mload\u001b[49m\u001b[43m(\u001b[49m\u001b[38;5;124;43m'\u001b[39;49m\u001b[38;5;124;43m/media/mountHDD2/chuyenmt/Dataset/VinDr-Mammo/Processed/multimodal_model_weights.pth\u001b[39;49m\u001b[38;5;124;43m'\u001b[39;49m\u001b[43m)\u001b[49m\u001b[43m)\u001b[49m\n\u001b[1;32m      9\u001b[0m \u001b[38;5;66;03m# Đặt mô hình vào chế độ evaluation\u001b[39;00m\n\u001b[1;32m     10\u001b[0m model\u001b[38;5;241m.\u001b[39meval()\n",
      "File \u001b[0;32m~/.env/lib/python3.10/site-packages/torch/nn/modules/module.py:2215\u001b[0m, in \u001b[0;36mModule.load_state_dict\u001b[0;34m(self, state_dict, strict, assign)\u001b[0m\n\u001b[1;32m   2210\u001b[0m         error_msgs\u001b[38;5;241m.\u001b[39minsert(\n\u001b[1;32m   2211\u001b[0m             \u001b[38;5;241m0\u001b[39m, \u001b[38;5;124m'\u001b[39m\u001b[38;5;124mMissing key(s) in state_dict: \u001b[39m\u001b[38;5;132;01m{}\u001b[39;00m\u001b[38;5;124m. \u001b[39m\u001b[38;5;124m'\u001b[39m\u001b[38;5;241m.\u001b[39mformat(\n\u001b[1;32m   2212\u001b[0m                 \u001b[38;5;124m'\u001b[39m\u001b[38;5;124m, \u001b[39m\u001b[38;5;124m'\u001b[39m\u001b[38;5;241m.\u001b[39mjoin(\u001b[38;5;124mf\u001b[39m\u001b[38;5;124m'\u001b[39m\u001b[38;5;124m\"\u001b[39m\u001b[38;5;132;01m{\u001b[39;00mk\u001b[38;5;132;01m}\u001b[39;00m\u001b[38;5;124m\"\u001b[39m\u001b[38;5;124m'\u001b[39m \u001b[38;5;28;01mfor\u001b[39;00m k \u001b[38;5;129;01min\u001b[39;00m missing_keys)))\n\u001b[1;32m   2214\u001b[0m \u001b[38;5;28;01mif\u001b[39;00m \u001b[38;5;28mlen\u001b[39m(error_msgs) \u001b[38;5;241m>\u001b[39m \u001b[38;5;241m0\u001b[39m:\n\u001b[0;32m-> 2215\u001b[0m     \u001b[38;5;28;01mraise\u001b[39;00m \u001b[38;5;167;01mRuntimeError\u001b[39;00m(\u001b[38;5;124m'\u001b[39m\u001b[38;5;124mError(s) in loading state_dict for \u001b[39m\u001b[38;5;132;01m{}\u001b[39;00m\u001b[38;5;124m:\u001b[39m\u001b[38;5;130;01m\\n\u001b[39;00m\u001b[38;5;130;01m\\t\u001b[39;00m\u001b[38;5;132;01m{}\u001b[39;00m\u001b[38;5;124m'\u001b[39m\u001b[38;5;241m.\u001b[39mformat(\n\u001b[1;32m   2216\u001b[0m                        \u001b[38;5;28mself\u001b[39m\u001b[38;5;241m.\u001b[39m\u001b[38;5;18m__class__\u001b[39m\u001b[38;5;241m.\u001b[39m\u001b[38;5;18m__name__\u001b[39m, \u001b[38;5;124m\"\u001b[39m\u001b[38;5;130;01m\\n\u001b[39;00m\u001b[38;5;130;01m\\t\u001b[39;00m\u001b[38;5;124m\"\u001b[39m\u001b[38;5;241m.\u001b[39mjoin(error_msgs)))\n\u001b[1;32m   2217\u001b[0m \u001b[38;5;28;01mreturn\u001b[39;00m _IncompatibleKeys(missing_keys, unexpected_keys)\n",
      "\u001b[0;31mRuntimeError\u001b[0m: Error(s) in loading state_dict for MultimodalModel:\n\tMissing key(s) in state_dict: \"cma.query_fc.weight\", \"cma.query_fc.bias\", \"cma.key_fc.weight\", \"cma.key_fc.bias\", \"cma.value_fc.weight\", \"cma.value_fc.bias\". \n\tsize mismatch for fc_combined.weight: copying a param with shape torch.Size([5, 1024]) from checkpoint, the shape in current model is torch.Size([5, 256])."
     ]
    }
   ],
   "source": [
    "# Khởi tạo mô hình\n",
    "model = MultimodalModel()   \n",
    "device = torch.device(\"cuda\" if torch.cuda.is_available() else \"cpu\")\n",
    "model.to(device)\n",
    "\n",
    "# Load trọng số mô hình đã lưu\n",
    "model.load_state_dict(torch.load('/media/mountHDD2/chuyenmt/Dataset/VinDr-Mammo/Processed/multimodal_model_weights.pth'))\n",
    "\n",
    "# Đặt mô hình vào chế độ evaluation\n",
    "model.eval()\n",
    "\n",
    "print(\"Model loaded successfully!\")\n",
    "\n",
    "# Bây giờ bạn có thể sử dụng mô hình để đánh giá hoặc dự đoán trên tập dữ liệu test\n"
   ]
  },
  {
   "cell_type": "code",
   "execution_count": 16,
   "metadata": {},
   "outputs": [
    {
     "name": "stderr",
     "output_type": "stream",
     "text": [
      "Testing: 100%|██████████████████████████████████████████████████████████████████████████| 97/97 [00:01<00:00, 88.80it/s]\n"
     ]
    },
    {
     "name": "stdout",
     "output_type": "stream",
     "text": [
      "Test Loss: 0.9777, Test Accuracy: 0.8699\n"
     ]
    },
    {
     "data": {
      "image/png": "[encoded data removed]",
      "text/plain": [
       "<Figure size 640x480 with 2 Axes>"
      ]
     },
     "metadata": {},
     "output_type": "display_data"
    }
   ],
   "source": [
    "from sklearn.metrics import confusion_matrix, ConfusionMatrixDisplay\n",
    "import numpy as np\n",
    "import torch\n",
    "import torch.optim as optim\n",
    "import torch.nn as nn\n",
    "from sklearn.metrics import accuracy_score\n",
    "import matplotlib.pyplot as plt\n",
    "from tqdm import tqdm   \n",
    " \n",
    "\n",
    "criterion = nn.CrossEntropyLoss()  # Sử dụng CrossEntropyLoss cho phân loại đa lớp\n",
    "test_loss = 0\n",
    "test_true, test_pred = [], []\n",
    "\n",
    "with torch.no_grad():  # Tắt gradient để tăng tốc độ tính toán\n",
    "    for batch in tqdm(test_loader, desc=\"Testing\"):\n",
    "        images, age, density, labels = batch\n",
    "        images, age, density, labels = (\n",
    "            images.to(device),\n",
    "            age.to(device),\n",
    "            density.to(device),\n",
    "            labels.to(device)\n",
    "        )\n",
    "\n",
    "        # Forward pass\n",
    "        outputs = model(images, age, density)\n",
    "\n",
    "        # Tính loss\n",
    "        loss = criterion(outputs, labels)\n",
    "        test_loss += loss.item()  # Cộng dồn loss\n",
    "\n",
    "        # Dự đoán nhãn\n",
    "        _, predicted_labels = torch.max(outputs, 1)\n",
    "        test_true.extend(labels.cpu().numpy())\n",
    "        test_pred.extend(predicted_labels.cpu().numpy())\n",
    "\n",
    "# Tính độ chính xác trên tập test\n",
    "test_acc = accuracy_score(test_true, test_pred)\n",
    "test_loss /= len(test_loader)  # Trung bình loss\n",
    " \n",
    "print(f\"Test Loss: {test_loss:.4f}, Test Accuracy: {test_acc:.4f}\")\n",
    "import numpy as np\n",
    "import pandas as pd\n",
    "import seaborn as sns\n",
    "import matplotlib.pyplot as plt\n",
    "from sklearn.metrics import confusion_matrix\n",
    "\n",
    "# Tính toán confusion matrix\n",
    "conf_matrix = confusion_matrix(test_true, test_pred)\n",
    "\n",
    "# Initialize lists to store metrics for each class\n",
    "sensitivity = []\n",
    "specificity = []\n",
    "precision = []\n",
    "accuracy = []\n",
    "\n",
    "# Calculate metrics for each class\n",
    "for i in range(len(conf_matrix)):\n",
    "    TP = conf_matrix[i, i]\n",
    "    FN = np.sum(conf_matrix[i, :]) - TP\n",
    "    FP = np.sum(conf_matrix[:, i]) - TP\n",
    "    TN = np.sum(conf_matrix) - (TP + FN + FP)\n",
    "\n",
    "    sen = TP / (TP + FN) if (TP + FN) != 0 else 0\n",
    "    spe = TN / (TN + FP) if (TN + FP) != 0 else 0\n",
    "    ppr = TP / (TP + FP) if (TP + FP) != 0 else 0\n",
    "    acc = (TP + TN) / (TP + TN + FP + FN) if (TP + TN + FP + FN) != 0 else 0\n",
    "\n",
    "    sensitivity.append(sen * 100)\n",
    "    specificity.append(spe * 100)\n",
    "    precision.append(ppr * 100)\n",
    "    accuracy.append(acc * 100)\n",
    "\n",
    "# Display the results in a table\n",
    "results_df = pd.DataFrame({\n",
    "    'Class': [f'C{i+1}' for i in range(len(conf_matrix))],\n",
    "    'Sensitivity (%)': sensitivity,\n",
    "    'Specificity (%)': specificity,\n",
    "    'Precision (%)': precision,\n",
    "    'Accuracy (%)': accuracy\n",
    "})\n",
    "\n",
    "print(results_df)\n",
    "\n",
    "# Plot the confusion matrix\n",
    "plt.figure(figsize=(10, 6))\n",
    "sns.heatmap(conf_matrix, annot=True, fmt='d', cmap='Blues', cbar=False)\n",
    "plt.xlabel('Predicted Class')\n",
    "plt.ylabel('True Class')\n",
    "plt.title(f'Confusion Matrix - Test Accuracy: {test_acc:.4f}')\n",
    "plt.show()\n",
    " \n",
    "  \n"
   ]
  },
  {
   "cell_type": "markdown",
   "metadata": {},
   "source": [
    "Train lần 2"
   ]
  }
 ],
 "metadata": {
  "colab": {
   "authorship_tag": "ABX9TyPC2yJRPwIb10kvdCCbYq5a",
   "mount_file_id": "1HkfMOnSwiJuBX-OQVKfWSO_5G3CjeTPM",
   "provenance": []
  },
  "kernelspec": {
   "display_name": "Python 3 (ipykernel)",
   "language": "python",
   "name": "python3"
  },
  "language_info": {
   "codemirror_mode": {
    "name": "ipython",
    "version": 3
   },
   "file_extension": ".py",
   "mimetype": "text/x-python",
   "name": "python",
   "nbconvert_exporter": "python",
   "pygments_lexer": "ipython3",
   "version": "3.10.12"
  }
 },
 "nbformat": 4,
 "nbformat_minor": 4
}
