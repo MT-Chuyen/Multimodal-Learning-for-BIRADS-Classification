{
 "cells": [
  {
   "cell_type": "code",
   "execution_count": 1,
   "metadata": {
    "executionInfo": {
     "elapsed": 19333,
     "status": "ok",
     "timestamp": 1727182615049,
     "user": {
      "displayName": "Chuyên Mai Tất",
      "userId": "15723878358474830250"
     },
     "user_tz": -420
    },
    "id": "sQR-CtYAGZd-"
   },
   "outputs": [],
   "source": [
    "import os\n",
    "import cv2\n",
    "import numpy as np\n",
    "import torch\n",
    "import pandas as pd\n",
    "from torch.utils.data import Dataset\n",
    "from sklearn.preprocessing import LabelEncoder\n",
    "from torchvision import transforms\n",
    "\n",
    "# Environment variable\n",
    " \n",
    "main_img_dir = \"/media/mountHDD3/data_storage/biomedical_data/Dataset/VinDr-Mammo-PNG-MAMMO-CLIP-CROPPED-TEXT_REMOVE-FLIP-MEDIAN-CLAHE-UNSHARP\"\n",
    "\n",
    "train_label = '/media/mountHDD3/data_storage/biomedical_data/Dataset/VinDr-Mammo/Processed/balanced_train_df.csv'\n",
    "val_label = '/media/mountHDD3/data_storage/biomedical_data/Dataset/VinDr-Mammo/Processed/balanced_val_df.csv'\n",
    "test_label = '/media/mountHDD3/data_storage/biomedical_data/Dataset/VinDr-Mammo/Processed/balanced_test_df.csv'\n",
    "\n",
    "target_size = (224, 224)\n",
    "\n",
    "# Custom dataset class for mammography data\n",
    "class MammographyDataset(Dataset):\n",
    "    def __init__(self, df_path, img_dir, target_size, transform=None):\n",
    "        self.df = pd.read_csv(df_path)\n",
    "        self.img_dir = img_dir\n",
    "        self.target_size = target_size\n",
    "        self.transform = transform\n",
    "        self.images, self.metadata, self.labels = self.load_data()\n",
    "\n",
    "    def load_data(self):\n",
    "        images, labels = [], []\n",
    "        age, density = [], []\n",
    "        \n",
    "        le_birads = LabelEncoder()  # LabelEncoder for 'breast_birads'\n",
    "        le_density = LabelEncoder()  # LabelEncoder for 'breast_density'\n",
    "        \n",
    "        for _, row in self.df.iterrows():\n",
    "            img = cv2.imread(os.path.join(self.img_dir, row['image_id']+'.png'))\n",
    "            if self.transform:\n",
    "                img = self.transform(img)\n",
    "            images.append(img)\n",
    "            labels.append(row['breast_birads'])  # Add breast_birads label\n",
    "            age.append(float(row['age']))  # Add age\n",
    "            density.append(row['breast_density'])  # Add breast density\n",
    "\n",
    "        labels = le_birads.fit_transform(labels)  # Encode breast_birads\n",
    "        labels = torch.tensor(labels).long()  # Convert labels to tensor\n",
    "        \n",
    "        density_encoded = le_density.fit_transform(density)  # Encode breast_density\n",
    "        density_tensor = torch.tensor(density_encoded).float()  # Convert encoded density to tensor\n",
    "        \n",
    "        metadata = {\n",
    "            'age': torch.tensor(age).float(),  # Convert age to tensor\n",
    "            'breast_density': density_tensor,  # Use encoded breast_density tensor\n",
    "        }\n",
    "        return images, metadata, labels\n",
    "\n",
    "    def __len__(self):\n",
    "        return len(self.df)\n",
    "\n",
    "    def __getitem__(self, idx):\n",
    "        return self.images[idx], self.metadata['age'][idx], self.metadata['breast_density'][idx], self.labels[idx]\n"
   ]
  },
  {
   "cell_type": "code",
   "execution_count": null,
   "metadata": {
    "executionInfo": {
     "elapsed": 7285,
     "status": "ok",
     "timestamp": 1727183016100,
     "user": {
      "displayName": "Chuyên Mai Tất",
      "userId": "15723878358474830250"
     },
     "user_tz": -420
    },
    "id": "G_yChHt1Gkqy"
   },
   "outputs": [],
   "source": [
    "# Define data transformations\n",
    "transform = transforms.Compose([\n",
    "    transforms.ToPILImage(),\n",
    "    transforms.Resize(target_size),\n",
    "    transforms.ToTensor(),\n",
    "    transforms.Normalize(mean=[0.485, 0.456, 0.406], std=[0.229, 0.224, 0.225]),\n",
    "])\n",
    "\n",
    "\n",
    "train_dataset = MammographyDataset(train_label, main_img_dir, target_size, transform=transform)\n",
    "test_dataset = MammographyDataset(test_label, main_img_dir, target_size, transform=transform)\n",
    "val_dataset = MammographyDataset(val_label, main_img_dir, target_size, transform=transform)\n"
   ]
  },
  {
   "cell_type": "code",
   "execution_count": 5,
   "metadata": {},
   "outputs": [
    {
     "ename": "NameError",
     "evalue": "name 'train_loader' is not defined",
     "output_type": "error",
     "traceback": [
      "\u001b[0;31m---------------------------------------------------------------------------\u001b[0m",
      "\u001b[0;31mNameError\u001b[0m                                 Traceback (most recent call last)",
      "Cell \u001b[0;32mIn[5], line 4\u001b[0m\n\u001b[1;32m      1\u001b[0m \u001b[38;5;28;01mimport\u001b[39;00m \u001b[38;5;21;01mmatplotlib\u001b[39;00m\u001b[38;5;21;01m.\u001b[39;00m\u001b[38;5;21;01mpyplot\u001b[39;00m \u001b[38;5;28;01mas\u001b[39;00m \u001b[38;5;21;01mplt\u001b[39;00m\n\u001b[1;32m      3\u001b[0m \u001b[38;5;66;03m# Lấy một batch mẫu từ train_loader\u001b[39;00m\n\u001b[0;32m----> 4\u001b[0m images, age, density, labels \u001b[38;5;241m=\u001b[39m \u001b[38;5;28mnext\u001b[39m(\u001b[38;5;28miter\u001b[39m(\u001b[43mtrain_loader\u001b[49m))\n\u001b[1;32m      6\u001b[0m \u001b[38;5;66;03m# Chọn một mẫu để hiển thị (ở đây chọn mẫu đầu tiên trong batch)\u001b[39;00m\n\u001b[1;32m      7\u001b[0m img \u001b[38;5;241m=\u001b[39m images[\u001b[38;5;241m0\u001b[39m]\u001b[38;5;241m.\u001b[39mpermute(\u001b[38;5;241m1\u001b[39m, \u001b[38;5;241m2\u001b[39m, \u001b[38;5;241m0\u001b[39m)\u001b[38;5;241m.\u001b[39mnumpy()  \u001b[38;5;66;03m# Đổi thứ tự từ (C, H, W) thành (H, W, C) để vẽ ảnh\u001b[39;00m\n",
      "\u001b[0;31mNameError\u001b[0m: name 'train_loader' is not defined"
     ]
    }
   ],
   "source": [
    "import matplotlib.pyplot as plt\n",
    "\n",
    "# Lấy một batch mẫu từ train_loader\n",
    "images, age, density, labels = next(iter(train_loader))\n",
    "n=5\n",
    "# Chọn một mẫu để hiển thị (ở đây chọn mẫu đầu tiên trong batch)\n",
    "img = imagesnn].permute(1, 2, 0).numpy()  # Đổi thứ tự từ (C, H, W) thành (H, W, C) để vẽ ảnh\n",
    "img = img * [0.229, 0.224, 0.225] + [0.485, 0.456, 0.406]  # Denormalize the image\n",
    "\n",
    "metadata = \n",
    "    'Age': age[n].item(),\n",
    "    'Density': density[n].item(),\n",
    "    'Label': labelsnn].item()  # Class label (được mã hóa dưới dạng số nguyên)\n",
    "}\n",
    "\n",
    "# Vẽ ảnh\n",
    "plt.imshow(img)\n",
    "plt.title(f\"Sample Image\\nMetadata: {metadata}\")\n",
    "plt.axis('off')\n",
    "plt.show()\n"
   ]
  },
  {
   "cell_type": "code",
   "execution_count": 6,
   "metadata": {},
   "outputs": [],
   "source": [
    "import torch\n",
    "import torch.nn as nn\n",
    "import torch.nn.functional as F\n",
    "from torchvision import models\n",
    "\n",
    "class SelfAttentionBlock(nn.Module):\n",
    "    def __init__(self, input_dim, hidden_dim, num_heads):\n",
    "        super(SelfAttentionBlock, self).__init__()\n",
    "        self.attention = nn.MultiheadAttention(embed_dim=input_dim, num_heads=num_heads)\n",
    "        self.layer_norm = nn.LayerNorm(input_dim)\n",
    "        self.ffn = nn.Sequential(\n",
    "            nn.Linear(input_dim, hidden_dim),\n",
    "            nn.ReLU(),\n",
    "            nn.Linear(hidden_dim, input_dim)\n",
    "        )\n",
    "        self.dropout = nn.Dropout(0.1)\n",
    "\n",
    "    def forward(self, x):\n",
    "        # Self-attention with residual connection\n",
    "        attn_output, _ = self.attention(x, x, x)\n",
    "        x = self.layer_norm(x + self.dropout(attn_output))\n",
    "\n",
    "        # Feed-forward with residual connection\n",
    "        ffn_output = self.ffn(x)\n",
    "        x = self.layer_norm(x + self.dropout(ffn_output))\n",
    "\n",
    "        return x\n",
    "\n",
    "\n",
    "class CrossAttentionBlock(nn.Module):\n",
    "    def __init__(self, img_dim, meta_dim, hidden_dim, num_heads):\n",
    "        super(CrossAttentionBlock, self).__init__()\n",
    "        \n",
    "        # Cross-attention layers\n",
    "        self.img_to_meta_att = nn.MultiheadAttention(embed_dim=img_dim, num_heads=num_heads)\n",
    "        self.meta_to_img_att = nn.MultiheadAttention(embed_dim=meta_dim, num_heads=num_heads)\n",
    "        \n",
    "        # Layer normalization\n",
    "        self.layer_norm_img = nn.LayerNorm(img_dim)\n",
    "        self.layer_norm_meta = nn.LayerNorm(meta_dim)\n",
    "\n",
    "    def forward(self, img_features, meta_features):\n",
    "        # Cross attention: img -> meta\n",
    "        meta_query, _ = self.img_to_meta_att(meta_features, img_features, img_features)\n",
    "        meta_features = self.layer_norm_meta(meta_features + meta_query)\n",
    "\n",
    "        # Cross attention: meta -> img\n",
    "        img_query, _ = self.meta_to_img_att(img_features, meta_features, meta_features)\n",
    "        img_features = self.layer_norm_img(img_features + img_query)\n",
    "\n",
    "        return img_features, meta_features\n",
    "\n",
    "\n",
    "class MultimodalModel(nn.Module):\n",
    "    def __init__(self, img_dim=1280, meta_dim=16, hidden_dim=512, num_heads=4, num_classes=5):\n",
    "        super(MultimodalModel, self).__init__()\n",
    "        \n",
    "        # Image model (e.g., MobileNetV2)\n",
    "        self.image_model = models.mobilenet_v2(weights='DEFAULT')\n",
    "        self.image_model.classifier = nn.Identity()  # Remove last layer\n",
    "        \n",
    "        # Metadata processing layers\n",
    "        self.age_norm = nn.BatchNorm1d(1)\n",
    "        self.breast_density_emb = nn.Embedding(4, 4)\n",
    "        self.fc_metadata = nn.Linear(1 + 4, meta_dim)\n",
    "        \n",
    "        # Intra-Modality Self-Attention\n",
    "        self.self_att_img = SelfAttentionBlock(input_dim=img_dim, hidden_dim=hidden_dim, num_heads=num_heads)\n",
    "        self.self_att_meta = SelfAttentionBlock(input_dim=meta_dim, hidden_dim=hidden_dim, num_heads=num_heads)\n",
    "        \n",
    "        # Inter-Modality Cross-Attention\n",
    "        self.cross_attention = CrossAttentionBlock(img_dim=img_dim, meta_dim=meta_dim, hidden_dim=hidden_dim, num_heads=num_heads)\n",
    "        \n",
    "        # Fully connected layers for final classification\n",
    "        self.fc_combined = nn.Sequential(\n",
    "            nn.Linear(img_dim + meta_dim, hidden_dim),\n",
    "            nn.ReLU(),\n",
    "            nn.Linear(hidden_dim, num_classes)\n",
    "        )\n",
    "\n",
    "    def forward(self, x_image, age, breast_density):\n",
    "        # Image processing\n",
    "        x_image = self.image_model(x_image)  # Output: (batch_size, img_dim)\n",
    "        x_image = x_image.unsqueeze(1)  # Add sequence dimension for attention\n",
    "        \n",
    "        # Metadata processing\n",
    "        age_norm = self.age_norm(age.view(-1, 1))\n",
    "        breast_density_emb = self.breast_density_emb(breast_density.long())\n",
    "        x_metadata = torch.cat([age_norm, breast_density_emb], dim=1)\n",
    "        x_metadata = F.relu(self.fc_metadata(x_metadata))\n",
    "        x_metadata = x_metadata.unsqueeze(1)  # Add sequence dimension for attention\n",
    "        \n",
    "        # Intra-Modality Self-Attention\n",
    "        x_image = self.self_att_img(x_image)\n",
    "        x_metadata = self.self_att_meta(x_metadata)\n",
    "        \n",
    "        # Inter-Modality Cross-Attention\n",
    "        x_image, x_metadata = self.cross_attention(x_image, x_metadata)\n",
    "        \n",
    "        # Combine features and classify\n",
    "        x_combined = torch.cat([x_image.squeeze(1), x_metadata.squeeze(1)], dim=-1)\n",
    "        output = self.fc_combined(x_combined)\n",
    "        \n",
    "        return output\n"
   ]
  },
  {
   "cell_type": "code",
   "execution_count": 14,
   "metadata": {},
   "outputs": [],
   "source": [
    "# import numpy as np\n",
    "\n",
    "# # Giả sử bạn đã lấy nhãn từ train_loader\n",
    "# for batch in train_loader:\n",
    "#     images, age, density, labels = batch\n",
    "#     print(\"Unique labels in the batch:\", np.unique(labels.numpy()))\n",
    "\n"
   ]
  },
  {
   "cell_type": "code",
   "execution_count": 15,
   "metadata": {
    "colab": {
     "base_uri": "https://localhost:8080/",
     "height": 480
    },
    "executionInfo": {
     "elapsed": 4716,
     "status": "error",
     "timestamp": 1727183024691,
     "user": {
      "displayName": "Chuyên Mai Tất",
      "userId": "15723878358474830250"
     },
     "user_tz": -420
    },
    "id": "Gi4lXccAGm4-",
    "outputId": "79c4511e-03fc-46c5-a3c3-aea1458e7150",
    "scrolled": true
   },
   "outputs": [
    {
     "name": "stderr",
     "output_type": "stream",
     "text": [
      "Epoch 1/5 [Train]: 100%|████████████████████████████████████████████████████████████| 2049/2049 [00:42<00:00, 48.26it/s]\n"
     ]
    },
    {
     "name": "stdout",
     "output_type": "stream",
     "text": [
      "Epoch [1/5], Loss: 0.9648, Train Accuracy: 0.6552\n"
     ]
    },
    {
     "name": "stderr",
     "output_type": "stream",
     "text": [
      "Epoch 2/5 [Train]: 100%|████████████████████████████████████████████████████████████| 2049/2049 [00:39<00:00, 52.41it/s]\n"
     ]
    },
    {
     "name": "stdout",
     "output_type": "stream",
     "text": [
      "Epoch [2/5], Loss: 0.8930, Train Accuracy: 0.6677\n"
     ]
    },
    {
     "name": "stderr",
     "output_type": "stream",
     "text": [
      "Epoch 3/5 [Train]: 100%|████████████████████████████████████████████████████████████| 2049/2049 [00:38<00:00, 53.66it/s]\n"
     ]
    },
    {
     "name": "stdout",
     "output_type": "stream",
     "text": [
      "Epoch [3/5], Loss: 0.8317, Train Accuracy: 0.6801\n"
     ]
    },
    {
     "name": "stderr",
     "output_type": "stream",
     "text": [
      "Epoch 4/5 [Train]: 100%|████████████████████████████████████████████████████████████| 2049/2049 [00:39<00:00, 51.92it/s]\n"
     ]
    },
    {
     "name": "stdout",
     "output_type": "stream",
     "text": [
      "Epoch [4/5], Loss: 0.7551, Train Accuracy: 0.7084\n"
     ]
    },
    {
     "name": "stderr",
     "output_type": "stream",
     "text": [
      "Epoch 5/5 [Train]: 100%|████████████████████████████████████████████████████████████| 2049/2049 [00:42<00:00, 48.10it/s]"
     ]
    },
    {
     "name": "stdout",
     "output_type": "stream",
     "text": [
      "Epoch [5/5], Loss: 0.6632, Train Accuracy: 0.7378\n"
     ]
    },
    {
     "name": "stderr",
     "output_type": "stream",
     "text": [
      "\n"
     ]
    }
   ],
   "source": [
    "import torch\n",
    "import torch.optim as optim\n",
    "import torch.nn as nn\n",
    "from sklearn.metrics import accuracy_score\n",
    "import matplotlib.pyplot as plt\n",
    "from tqdm import tqdm   \n",
    "\n",
    " \n",
    "model = MultimodalModelWithMA()   \n",
    "device = torch.device(\"cuda\" if torch.cuda.is_available() else \"cpu\")\n",
    "model.to(device)\n",
    " \n",
    "train_losses, val_losses = [], []\n",
    "train_accuracies, val_accuracies = [], []\n",
    " \n",
    "\n",
    "criterion = nn.CrossEntropyLoss()  # Sử dụng CrossEntropyLoss cho phân loại đa lớp\n",
    "optimizer = optim.Adam(model.parameters(), lr=1e-4)   \n",
    "\n",
    "num_epochs = 5\n",
    "\n",
    "# Bắt đầu quá trình huấn luyện\n",
    "for epoch in range(num_epochs):\n",
    "    model.train()\n",
    "    train_loss = 0\n",
    "    train_true, train_pred = [], []\n",
    " \n",
    "    for batch in tqdm(train_loader, desc=f\"Epoch {epoch+1}/{num_epochs} [Train]\"):\n",
    "        images, age, density, labels = batch\n",
    "        images, age, density, labels = (\n",
    "            images.to(device),\n",
    "            age.to(device),\n",
    "            density.to(device),\n",
    "            labels.to(device) # Nhãn không cần chuyển đổi sang float\n",
    "        )\n",
    "        labels = labels \n",
    "\n",
    "        # Forward pass\n",
    "        outputs = model(images, age, density)\n",
    "\n",
    "        # Tính loss\n",
    "        loss = criterion(outputs, labels)   \n",
    "\n",
    "        # Dự đoán nhãn\n",
    "        _, predicted_labels = torch.max(outputs, 1)  # Lấy nhãn có xác suất cao nhất\n",
    "        train_true.extend(labels.cpu().numpy())\n",
    "        train_pred.extend(predicted_labels.cpu().numpy())  # Chuyển predicted_labels sang numpy\n",
    "\n",
    "        # Backward pass và optimize\n",
    "        optimizer.zero_grad()\n",
    "        loss.backward()\n",
    "        optimizer.step()\n",
    "\n",
    "        # Cộng dồn loss cho epoch\n",
    "        train_loss += loss.item()  # Cộng dồn giá trị loss của batch\n",
    "\n",
    "    # Tính độ chính xác trên tập train\n",
    "    train_acc = accuracy_score(train_true, train_pred)\n",
    "    train_losses.append(train_loss / len(train_loader))  # Trung bình loss\n",
    "    train_accuracies.append(train_acc)\n",
    "\n",
    "    print(f\"Epoch [{epoch + 1}/{num_epochs}], Loss: {train_loss / len(train_loader):.4f}, Train Accuracy: {train_acc:.4f}\")"
   ]
  },
  {
   "cell_type": "code",
   "execution_count": 13,
   "metadata": {},
   "outputs": [
    {
     "data": {
      "image/png": "[encoded data removed]",
      "text/plain": [
       "<Figure size 640x480 with 2 Axes>"
      ]
     },
     "metadata": {},
     "output_type": "display_data"
    }
   ],
   "source": [
    "plt.title(f'Confusion Matrix - Test Accuracy: {test_acc:.4f}')"
   ]
  },
  {
   "cell_type": "markdown",
   "metadata": {},
   "source": [
    "Train lần 1\n"
   ]
  },
  {
   "cell_type": "code",
   "execution_count": 7,
   "metadata": {},
   "outputs": [
    {
     "name": "stdout",
     "output_type": "stream",
     "text": [
      "Model loaded successfully!\n"
     ]
    },
    {
     "name": "stderr",
     "output_type": "stream",
     "text": [
      "/tmp/ipykernel_1281898/978622631.py:7: FutureWarning: You are using `torch.load` with `weights_only=False` (the current default value), which uses the default pickle module implicitly. It is possible to construct malicious pickle data which will execute arbitrary code during unpickling (See https://github.com/pytorch/pytorch/blob/main/SECURITY.md#untrusted-models for more details). In a future release, the default value for `weights_only` will be flipped to `True`. This limits the functions that could be executed during unpickling. Arbitrary objects will no longer be allowed to be loaded via this mode unless they are explicitly allowlisted by the user via `torch.serialization.add_safe_globals`. We recommend you start setting `weights_only=True` for any use case where you don't have full control of the loaded file. Please open an issue on GitHub for any issues related to this experimental feature.\n",
      "  model.load_state_dict(torch.load('/media/mountHDD3/data_storage/biomedical_data/Dataset/VinDr-Mammo/Processed/ma_2mh_weights.pth'))\n"
     ]
    }
   ],
   "source": [
    "# Khởi tạo mô hình\n",
    "model = MultimodalModelWithMA()   \n",
    "device = torch.device(\"cuda\" if torch.cuda.is_available() else \"cpu\")\n",
    "model.to(device)\n",
    "\n",
    "# Load trọng số mô hình đã lưu\n",
    "model.load_state_dict(torch.load('/media/mountHDD3/data_storage/biomedical_data/Dataset/VinDr-Mammo/Processed/ma_2mh_weights.pth'))\n",
    "\n",
    "# Đặt mô hình vào chế độ evaluation\n",
    "model.eval()\n",
    "\n",
    "print(\"Model loaded successfully!\")\n",
    "\n",
    "# Bây giờ bạn có thể sử dụng mô hình để đánh giá hoặc dự đoán trên tập dữ liệu test\n"
   ]
  },
  {
   "cell_type": "code",
   "execution_count": 8,
   "metadata": {},
   "outputs": [
    {
     "name": "stderr",
     "output_type": "stream",
     "text": [
      "Testing: 100%|███████████████████████████████████████████████████████████████████████| 256/256 [00:01<00:00, 159.10it/s]\n"
     ]
    },
    {
     "name": "stdout",
     "output_type": "stream",
     "text": [
      "Test Loss: 3.0212, Test Accuracy: 0.6250\n",
      "  Class  Sensitivity (%)  Specificity (%)  Precision (%)  Accuracy (%)\n",
      "0    C1        86.875466        28.005658      69.593787     66.552734\n",
      "1    C2        19.057816        87.919039      31.785714     72.216797\n",
      "2    C3         5.208333        97.899590      10.869565     93.554688\n",
      "3    C4        10.000000        98.819302      30.303030     94.482422\n",
      "4    C5        25.000000        99.800399      73.333333     98.193359\n"
     ]
    },
    {
     "data": {
      "image/png": "[encoded data removed]",
      "text/plain": [
       "<Figure size 1000x600 with 1 Axes>"
      ]
     },
     "metadata": {},
     "output_type": "display_data"
    }
   ],
   "source": [
    "from sklearn.metrics import confusion_matrix, ConfusionMatrixDisplay\n",
    "import numpy as np\n",
    "import torch\n",
    "import torch.optim as optim\n",
    "import torch.nn as nn\n",
    "from sklearn.metrics import accuracy_score\n",
    "import matplotlib.pyplot as plt\n",
    "from tqdm import tqdm   \n",
    " \n",
    "\n",
    "criterion = nn.CrossEntropyLoss()  # Sử dụng CrossEntropyLoss cho phân loại đa lớp\n",
    "test_loss = 0\n",
    "test_true, test_pred = [], []\n",
    "\n",
    "with torch.no_grad():  # Tắt gradient để tăng tốc độ tính toán\n",
    "    for batch in tqdm(test_loader, desc=\"Testing\"):\n",
    "        images, age, density, labels = batch\n",
    "        images, age, density, labels = (\n",
    "            images.to(device),\n",
    "            age.to(device),\n",
    "            density.to(device),\n",
    "            labels.to(device)\n",
    "        )\n",
    "\n",
    "        # Forward pass\n",
    "        outputs = model(images, age, density)\n",
    "\n",
    "        # Tính loss\n",
    "        loss = criterion(outputs, labels)\n",
    "        test_loss += loss.item()  # Cộng dồn loss\n",
    "\n",
    "        # Dự đoán nhãn\n",
    "        _, predicted_labels = torch.max(outputs, 1)\n",
    "        test_true.extend(labels.cpu().numpy())\n",
    "        test_pred.extend(predicted_labels.cpu().numpy())\n",
    "\n",
    "# Tính độ chính xác trên tập test\n",
    "test_acc = accuracy_score(test_true, test_pred)\n",
    "test_loss /= len(test_loader)  # Trung bình loss\n",
    " \n",
    "print(f\"Test Loss: {test_loss:.4f}, Test Accuracy: {test_acc:.4f}\")\n",
    "import numpy as np\n",
    "import pandas as pd\n",
    "import seaborn as sns\n",
    "import matplotlib.pyplot as plt\n",
    "from sklearn.metrics import confusion_matrix\n",
    "\n",
    "# Tính toán confusion matrix\n",
    "conf_matrix = confusion_matrix(test_true, test_pred)\n",
    "\n",
    "# Initialize lists to store metrics for each class\n",
    "sensitivity = []\n",
    "specificity = []\n",
    "precision = []\n",
    "accuracy = []\n",
    "\n",
    "# Calculate metrics for each class\n",
    "for i in range(len(conf_matrix)):\n",
    "    TP = conf_matrix[i, i]\n",
    "    FN = np.sum(conf_matrix[i, :]) - TP\n",
    "    FP = np.sum(conf_matrix[:, i]) - TP\n",
    "    TN = np.sum(conf_matrix) - (TP + FN + FP)\n",
    "\n",
    "    sen = TP / (TP + FN) if (TP + FN) != 0 else 0\n",
    "    spe = TN / (TN + FP) if (TN + FP) != 0 else 0\n",
    "    ppr = TP / (TP + FP) if (TP + FP) != 0 else 0\n",
    "    acc = (TP + TN) / (TP + TN + FP + FN) if (TP + TN + FP + FN) != 0 else 0\n",
    "\n",
    "    sensitivity.append(sen * 100)\n",
    "    specificity.append(spe * 100)\n",
    "    precision.append(ppr * 100)\n",
    "    accuracy.append(acc * 100)\n",
    "\n",
    "# Display the results in a table\n",
    "results_df = pd.DataFrame({\n",
    "    'Class': [f'C{i+1}' for i in range(len(conf_matrix))],\n",
    "    'Sensitivity (%)': sensitivity,\n",
    "    'Specificity (%)': specificity,\n",
    "    'Precision (%)': precision,\n",
    "    'Accuracy (%)': accuracy\n",
    "})\n",
    "\n",
    "print(results_df)\n",
    "\n",
    "# Plot the confusion matrix\n",
    "plt.figure(figsize=(10, 6))\n",
    "sns.heatmap(conf_matrix, annot=True, fmt='d', cmap='Blues', cbar=False)\n",
    "plt.xlabel('Predicted Class')\n",
    "plt.ylabel('True Class')\n",
    "plt.title(f'Confusion Matrix - Test Accuracy: {test_acc:.4f}')\n",
    "plt.show()\n",
    " \n",
    "  \n"
   ]
  },
  {
   "cell_type": "markdown",
   "metadata": {},
   "source": [
    "Train lần 2"
   ]
  },
  {
   "cell_type": "code",
   "execution_count": 14,
   "metadata": {},
   "outputs": [
    {
     "name": "stdout",
     "output_type": "stream",
     "text": [
      "Test Loss: 3.0212, Test Accuracy: 0.6250\n"
     ]
    },
    {
     "data": {
      "image/png": "[encoded data removed]",
      "text/plain": [
       "<Figure size 640x480 with 2 Axes>"
      ]
     },
     "metadata": {},
     "output_type": "display_data"
    }
   ],
   "source": [
    "import torch\n",
    "from sklearn.metrics import accuracy_score, confusion_matrix, ConfusionMatrixDisplay\n",
    "import matplotlib.pyplot as plt\n",
    "\n",
    "# Hàm đánh giá mô hình trên tập test\n",
    "def evaluate_model(model, test_loader, device):\n",
    "    model.eval()  # Đặt mô hình vào chế độ evaluation\n",
    "    test_loss = 0\n",
    "    criterion = nn.CrossEntropyLoss()  # Loss để tính toán trên tập test\n",
    "    test_true, test_pred = [], []\n",
    "\n",
    "    with torch.no_grad():  # Không cần tính toán gradient\n",
    "        for batch in test_loader:\n",
    "            images, age, density, labels = batch\n",
    "            images, age, density, labels = (\n",
    "                images.to(device),\n",
    "                age.to(device),\n",
    "                density.to(device),\n",
    "                labels.to(device)\n",
    "            )\n",
    "            \n",
    "            # Forward pass\n",
    "            outputs = model(images, age, density)\n",
    "            loss = criterion(outputs, labels)\n",
    "            \n",
    "            # Tính loss\n",
    "            test_loss += loss.item()\n",
    "            \n",
    "            # Dự đoán nhãn\n",
    "            _, predicted_labels = torch.max(outputs, 1)\n",
    "            test_true.extend(labels.cpu().numpy())  # Lưu nhãn thực\n",
    "            test_pred.extend(predicted_labels.cpu().numpy())  # Lưu nhãn dự đoán\n",
    "\n",
    "    # Tính độ chính xác trên tập test\n",
    "    test_acc = accuracy_score(test_true, test_pred)\n",
    "    avg_test_loss = test_loss / len(test_loader)\n",
    "\n",
    "    print(f\"Test Loss: {avg_test_loss:.4f}, Test Accuracy: {test_acc:.4f}\")\n",
    "\n",
    "    # Tạo confusion matrix\n",
    "    cm = confusion_matrix(test_true, test_pred)\n",
    "    disp = ConfusionMatrixDisplay(confusion_matrix=cm)\n",
    "    disp.plot(cmap=plt.cm.Blues)\n",
    "    plt.show()\n",
    "\n",
    "# Gọi hàm evaluate_model sau khi huấn luyện\n",
    "evaluate_model(model, test_loader, device)\n"
   ]
  },
  {
   "cell_type": "code",
   "execution_count": null,
   "metadata": {},
   "outputs": [],
   "source": []
  }
 ],
 "metadata": {
  "colab": {
   "authorship_tag": "ABX9TyPC2yJRPwIb10kvdCCbYq5a",
   "mount_file_id": "1HkfMOnSwiJuBX-OQVKfWSO_5G3CjeTPM",
   "provenance": []
  },
  "kernelspec": {
   "display_name": "Python 3 (ipykernel)",
   "language": "python",
   "name": "python3"
  },
  "language_info": {
   "codemirror_mode": {
    "name": "ipython",
    "version": 3
   },
   "file_extension": ".py",
   "mimetype": "text/x-python",
   "name": "python",
   "nbconvert_exporter": "python",
   "pygments_lexer": "ipython3",
   "version": "3.10.12"
  }
 },
 "nbformat": 4,
 "nbformat_minor": 4
}
