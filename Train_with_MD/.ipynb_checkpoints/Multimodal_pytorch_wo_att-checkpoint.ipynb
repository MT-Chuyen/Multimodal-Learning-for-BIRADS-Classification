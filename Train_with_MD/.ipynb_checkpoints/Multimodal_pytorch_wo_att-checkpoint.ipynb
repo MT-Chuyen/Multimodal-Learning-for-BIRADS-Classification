{
 "cells": [
  {
   "cell_type": "code",
   "execution_count": 10,
   "metadata": {
    "executionInfo": {
     "elapsed": 19333,
     "status": "ok",
     "timestamp": 1727182615049,
     "user": {
      "displayName": "Chuyên Mai Tất",
      "userId": "15723878358474830250"
     },
     "user_tz": -420
    },
    "id": "sQR-CtYAGZd-"
   },
   "outputs": [],
   "source": [
    "import os\n",
    "import cv2\n",
    "import numpy as np\n",
    "import torch\n",
    "import pandas as pd\n",
    "from torch.utils.data import Dataset\n",
    "from sklearn.preprocessing import LabelEncoder\n",
    "from torchvision import transforms\n",
    "\n",
    "# Environment variable\n",
    "main_img_dir = \"/media/mountHDD3/data_storage/biomedical_data/Dataset/VinDr-Mammo-PNG-MAMMO-CLIP-CROPPED-TEXT_REMOVE-FLIP-MEDIAN-CLAHE-UNSHARP\"\n",
    "\n",
    "train_label = '/media/mountHDD3/data_storage/biomedical_data/Dataset/VinDr-Mammo/Processed/train_df.csv'\n",
    "val_label = '/media/mountHDD3/data_storage/biomedical_data/Dataset/VinDr-Mammo/Processed/val_df.csv'\n",
    "test_label = '/media/mountHDD3/data_storage/biomedical_data/Dataset/VinDr-Mammo/Processed/test_df.csv'\n",
    "\n",
    "target_size = (256,256)\n",
    "\n",
    "# Custom dataset class for mammography data\n",
    "class MammographyDataset(Dataset):\n",
    "    def __init__(self, df_path, img_dir, target_size, transform=None):\n",
    "        self.df = pd.read_csv(df_path)\n",
    "        self.img_dir = img_dir\n",
    "        self.target_size = target_size\n",
    "        self.transform = transform\n",
    "        self.images, self.metadata, self.labels = self.load_data()\n",
    "\n",
    "    def load_data(self):\n",
    "        images, labels = [], []\n",
    "        age, density = [], []\n",
    "        \n",
    "        le_birads = LabelEncoder()  # LabelEncoder for 'breast_birads'\n",
    "        le_density = LabelEncoder()  # LabelEncoder for 'breast_density'\n",
    "        \n",
    "        for _, row in self.df.iterrows():\n",
    "            img = cv2.imread(os.path.join(self.img_dir, row['image_id']+'.png'))\n",
    "            if self.transform:\n",
    "                img = self.transform(img)\n",
    "            images.append(img)\n",
    "            labels.append(row['breast_birads'])  # Add breast_birads label\n",
    "            age.append(float(row['age']))  # Add age\n",
    "            density.append(row['breast_density'])  # Add breast density\n",
    "\n",
    "        labels = le_birads.fit_transform(labels)  # Encode breast_birads\n",
    "        labels = torch.tensor(labels).long()  # Convert labels to tensor\n",
    "        \n",
    "        density_encoded = le_density.fit_transform(density)  # Encode breast_density\n",
    "        density_tensor = torch.tensor(density_encoded).float()  # Convert encoded density to tensor\n",
    "        \n",
    "        metadata = {\n",
    "            'age': torch.tensor(age).float(),  # Convert age to tensor\n",
    "            'breast_density': density_tensor,  # Use encoded breast_density tensor\n",
    "        }\n",
    "        return images, metadata, labels\n",
    "\n",
    "    def __len__(self):\n",
    "        return len(self.df)\n",
    "\n",
    "    def __getitem__(self, idx):\n",
    "        return self.images[idx], self.metadata['age'][idx], self.metadata['breast_density'][idx], self.labels[idx]\n"
   ]
  },
  {
   "cell_type": "code",
   "execution_count": 2,
   "metadata": {},
   "outputs": [
    {
     "data": {
      "text/html": [
       "<div>\n",
       "<style scoped>\n",
       "    .dataframe tbody tr th:only-of-type {\n",
       "        vertical-align: middle;\n",
       "    }\n",
       "\n",
       "    .dataframe tbody tr th {\n",
       "        vertical-align: top;\n",
       "    }\n",
       "\n",
       "    .dataframe thead th {\n",
       "        text-align: right;\n",
       "    }\n",
       "</style>\n",
       "<table border=\"1\" class=\"dataframe\">\n",
       "  <thead>\n",
       "    <tr style=\"text-align: right;\">\n",
       "      <th></th>\n",
       "      <th>image_id</th>\n",
       "      <th>age</th>\n",
       "      <th>model_name</th>\n",
       "      <th>laterality</th>\n",
       "      <th>breast_density</th>\n",
       "      <th>breast_birads</th>\n",
       "      <th>view</th>\n",
       "      <th>split</th>\n",
       "      <th>photometric_interpretation</th>\n",
       "    </tr>\n",
       "  </thead>\n",
       "  <tbody>\n",
       "    <tr>\n",
       "      <th>0</th>\n",
       "      <td>d8125545210c08e1b1793a5af6458ee2</td>\n",
       "      <td>53</td>\n",
       "      <td>Mammomat Inspiration</td>\n",
       "      <td>L</td>\n",
       "      <td>DENSITY C</td>\n",
       "      <td>BI-RADS 2</td>\n",
       "      <td>CC</td>\n",
       "      <td>training</td>\n",
       "      <td>MONOCHROME2</td>\n",
       "    </tr>\n",
       "    <tr>\n",
       "      <th>1</th>\n",
       "      <td>290c658f4e75a3f83ec78a847414297c</td>\n",
       "      <td>53</td>\n",
       "      <td>Mammomat Inspiration</td>\n",
       "      <td>L</td>\n",
       "      <td>DENSITY C</td>\n",
       "      <td>BI-RADS 2</td>\n",
       "      <td>MLO</td>\n",
       "      <td>training</td>\n",
       "      <td>MONOCHROME2</td>\n",
       "    </tr>\n",
       "    <tr>\n",
       "      <th>2</th>\n",
       "      <td>cd0fc7bc53ac632a11643ac4cc91002a</td>\n",
       "      <td>53</td>\n",
       "      <td>Mammomat Inspiration</td>\n",
       "      <td>R</td>\n",
       "      <td>DENSITY C</td>\n",
       "      <td>BI-RADS 2</td>\n",
       "      <td>CC</td>\n",
       "      <td>training</td>\n",
       "      <td>MONOCHROME2</td>\n",
       "    </tr>\n",
       "    <tr>\n",
       "      <th>3</th>\n",
       "      <td>71638b1e853799f227492bfb08a01491</td>\n",
       "      <td>53</td>\n",
       "      <td>Mammomat Inspiration</td>\n",
       "      <td>R</td>\n",
       "      <td>DENSITY C</td>\n",
       "      <td>BI-RADS 2</td>\n",
       "      <td>MLO</td>\n",
       "      <td>training</td>\n",
       "      <td>MONOCHROME2</td>\n",
       "    </tr>\n",
       "    <tr>\n",
       "      <th>4</th>\n",
       "      <td>dd9ce3288c0773e006a294188aadba8e</td>\n",
       "      <td>42</td>\n",
       "      <td>Mammomat Inspiration</td>\n",
       "      <td>L</td>\n",
       "      <td>DENSITY C</td>\n",
       "      <td>BI-RADS 1</td>\n",
       "      <td>CC</td>\n",
       "      <td>training</td>\n",
       "      <td>MONOCHROME2</td>\n",
       "    </tr>\n",
       "    <tr>\n",
       "      <th>...</th>\n",
       "      <td>...</td>\n",
       "      <td>...</td>\n",
       "      <td>...</td>\n",
       "      <td>...</td>\n",
       "      <td>...</td>\n",
       "      <td>...</td>\n",
       "      <td>...</td>\n",
       "      <td>...</td>\n",
       "      <td>...</td>\n",
       "    </tr>\n",
       "    <tr>\n",
       "      <th>20481</th>\n",
       "      <td>ea732154d149f619b20070b78060ae65</td>\n",
       "      <td>38</td>\n",
       "      <td>Planmed Nuance</td>\n",
       "      <td>R</td>\n",
       "      <td>DENSITY C</td>\n",
       "      <td>BI-RADS 2</td>\n",
       "      <td>CC</td>\n",
       "      <td>training</td>\n",
       "      <td>MONOCHROME1</td>\n",
       "    </tr>\n",
       "    <tr>\n",
       "      <th>20482</th>\n",
       "      <td>4689616c3d0b46fcba7a771107730791</td>\n",
       "      <td>18</td>\n",
       "      <td>GIOTTO CLASS</td>\n",
       "      <td>R</td>\n",
       "      <td>DENSITY C</td>\n",
       "      <td>BI-RADS 2</td>\n",
       "      <td>CC</td>\n",
       "      <td>training</td>\n",
       "      <td>MONOCHROME2</td>\n",
       "    </tr>\n",
       "    <tr>\n",
       "      <th>20483</th>\n",
       "      <td>3c22491bcf1d0b004715c28d80981cdd</td>\n",
       "      <td>18</td>\n",
       "      <td>GIOTTO CLASS</td>\n",
       "      <td>L</td>\n",
       "      <td>DENSITY C</td>\n",
       "      <td>BI-RADS 2</td>\n",
       "      <td>CC</td>\n",
       "      <td>training</td>\n",
       "      <td>MONOCHROME2</td>\n",
       "    </tr>\n",
       "    <tr>\n",
       "      <th>20484</th>\n",
       "      <td>d443b9725e331b8b27589aa725597801</td>\n",
       "      <td>18</td>\n",
       "      <td>GIOTTO CLASS</td>\n",
       "      <td>R</td>\n",
       "      <td>DENSITY C</td>\n",
       "      <td>BI-RADS 2</td>\n",
       "      <td>MLO</td>\n",
       "      <td>training</td>\n",
       "      <td>MONOCHROME2</td>\n",
       "    </tr>\n",
       "    <tr>\n",
       "      <th>20485</th>\n",
       "      <td>45c1239cc36b0e672f0072707fd05c6f</td>\n",
       "      <td>18</td>\n",
       "      <td>GIOTTO CLASS</td>\n",
       "      <td>L</td>\n",
       "      <td>DENSITY C</td>\n",
       "      <td>BI-RADS 2</td>\n",
       "      <td>MLO</td>\n",
       "      <td>training</td>\n",
       "      <td>MONOCHROME2</td>\n",
       "    </tr>\n",
       "  </tbody>\n",
       "</table>\n",
       "<p>20486 rows × 9 columns</p>\n",
       "</div>"
      ],
      "text/plain": [
       "                               image_id  age            model_name laterality  \\\n",
       "0      d8125545210c08e1b1793a5af6458ee2   53  Mammomat Inspiration          L   \n",
       "1      290c658f4e75a3f83ec78a847414297c   53  Mammomat Inspiration          L   \n",
       "2      cd0fc7bc53ac632a11643ac4cc91002a   53  Mammomat Inspiration          R   \n",
       "3      71638b1e853799f227492bfb08a01491   53  Mammomat Inspiration          R   \n",
       "4      dd9ce3288c0773e006a294188aadba8e   42  Mammomat Inspiration          L   \n",
       "...                                 ...  ...                   ...        ...   \n",
       "20481  ea732154d149f619b20070b78060ae65   38        Planmed Nuance          R   \n",
       "20482  4689616c3d0b46fcba7a771107730791   18          GIOTTO CLASS          R   \n",
       "20483  3c22491bcf1d0b004715c28d80981cdd   18          GIOTTO CLASS          L   \n",
       "20484  d443b9725e331b8b27589aa725597801   18          GIOTTO CLASS          R   \n",
       "20485  45c1239cc36b0e672f0072707fd05c6f   18          GIOTTO CLASS          L   \n",
       "\n",
       "      breast_density breast_birads view     split photometric_interpretation  \n",
       "0          DENSITY C     BI-RADS 2   CC  training                MONOCHROME2  \n",
       "1          DENSITY C     BI-RADS 2  MLO  training                MONOCHROME2  \n",
       "2          DENSITY C     BI-RADS 2   CC  training                MONOCHROME2  \n",
       "3          DENSITY C     BI-RADS 2  MLO  training                MONOCHROME2  \n",
       "4          DENSITY C     BI-RADS 1   CC  training                MONOCHROME2  \n",
       "...              ...           ...  ...       ...                        ...  \n",
       "20481      DENSITY C     BI-RADS 2   CC  training                MONOCHROME1  \n",
       "20482      DENSITY C     BI-RADS 2   CC  training                MONOCHROME2  \n",
       "20483      DENSITY C     BI-RADS 2   CC  training                MONOCHROME2  \n",
       "20484      DENSITY C     BI-RADS 2  MLO  training                MONOCHROME2  \n",
       "20485      DENSITY C     BI-RADS 2  MLO  training                MONOCHROME2  \n",
       "\n",
       "[20486 rows x 9 columns]"
      ]
     },
     "execution_count": 2,
     "metadata": {},
     "output_type": "execute_result"
    }
   ],
   "source": [
    "meta=pd.read_csv(meta_label)\n",
    "meta"
   ]
  },
  {
   "cell_type": "code",
   "execution_count": 3,
   "metadata": {},
   "outputs": [
    {
     "data": {
      "text/plain": [
       "array(['BI-RADS 2', 'BI-RADS 1', 'BI-RADS 3', 'BI-RADS 4', 'BI-RADS 5'],\n",
       "      dtype=object)"
      ]
     },
     "execution_count": 3,
     "metadata": {},
     "output_type": "execute_result"
    }
   ],
   "source": [
    "meta['breast_birads'].unique()"
   ]
  },
  {
   "cell_type": "code",
   "execution_count": 4,
   "metadata": {},
   "outputs": [
    {
     "data": {
      "text/plain": [
       "breast_birads\n",
       "BI-RADS 1    13406\n",
       "BI-RADS 2     4676\n",
       "BI-RADS 4     1005\n",
       "BI-RADS 3      972\n",
       "BI-RADS 5      427\n",
       "Name: count, dtype: int64"
      ]
     },
     "execution_count": 4,
     "metadata": {},
     "output_type": "execute_result"
    }
   ],
   "source": [
    "meta['breast_birads'].value_counts()"
   ]
  },
  {
   "cell_type": "code",
   "execution_count": 11,
   "metadata": {
    "executionInfo": {
     "elapsed": 7285,
     "status": "ok",
     "timestamp": 1727183016100,
     "user": {
      "displayName": "Chuyên Mai Tất",
      "userId": "15723878358474830250"
     },
     "user_tz": -420
    },
    "id": "G_yChHt1Gkqy"
   },
   "outputs": [],
   "source": [
    "# Define data transformations\n",
    "transform = transforms.Compose([\n",
    "    transforms.ToPILImage(),\n",
    "    transforms.Resize(target_size),\n",
    "    transforms.ToTensor(),\n",
    "    transforms.Normalize(mean=[0.485, 0.456, 0.406], std=[0.229, 0.224, 0.225]),\n",
    "])\n",
    "\n",
    "\n",
    "train_dataset = MammographyDataset(train_label, main_img_dir, target_size, transform=transform)\n",
    "test_dataset = MammographyDataset(test_label, main_img_dir, target_size, transform=transform)\n",
    "val_dataset = MammographyDataset(val_label, main_img_dir, target_size, transform=transform)\n"
   ]
  },
  {
   "cell_type": "code",
   "execution_count": null,
   "metadata": {},
   "outputs": [],
   "source": [
    "from torch.utils.data import random_split\n",
    "\n",
    "# Định nghĩa tỷ lệ chia train, val, test (ví dụ 70% train, 15% val, 15% test)\n",
    "train_size = int(0.7 * len(dataset))\n",
    "val_size = int(0.15 * len(dataset))\n",
    "test_size = len(dataset) - train_size - val_size\n",
    "\n",
    "# Chia dataset\n",
    "train_dataset, val_dataset, test_dataset = random_split(dataset, [train_size, val_size, test_size])\n",
    "\n",
    "# Kiểm tra kích thước các tập\n",
    "print(f\"Train dataset size: {len(train_dataset)}\")\n",
    "print(f\"Validation dataset size: {len(val_dataset)}\")\n",
    "print(f\"Test dataset size: {len(test_dataset)}\")\n"
   ]
  },
  {
   "cell_type": "code",
   "execution_count": 12,
   "metadata": {},
   "outputs": [],
   "source": [
    "from torch.utils.data import DataLoader\n",
    "\n",
    "# Tạo DataLoader cho train, val, test\n",
    "train_loader = DataLoader(train_dataset, batch_size=32, shuffle=True)\n",
    "val_loader = DataLoader(val_dataset, batch_size=32, shuffle=False)\n",
    "test_loader = DataLoader(test_dataset, batch_size=32, shuffle=False)\n"
   ]
  },
  {
   "cell_type": "code",
   "execution_count": 7,
   "metadata": {},
   "outputs": [
    {
     "ename": "NameError",
     "evalue": "name 'train_loader' is not defined",
     "output_type": "error",
     "traceback": [
      "\u001b[0;31m---------------------------------------------------------------------------\u001b[0m",
      "\u001b[0;31mNameError\u001b[0m                                 Traceback (most recent call last)",
      "Cell \u001b[0;32mIn[7], line 4\u001b[0m\n\u001b[1;32m      1\u001b[0m \u001b[38;5;28;01mimport\u001b[39;00m \u001b[38;5;21;01mmatplotlib\u001b[39;00m\u001b[38;5;21;01m.\u001b[39;00m\u001b[38;5;21;01mpyplot\u001b[39;00m \u001b[38;5;28;01mas\u001b[39;00m \u001b[38;5;21;01mplt\u001b[39;00m\n\u001b[1;32m      3\u001b[0m \u001b[38;5;66;03m# Lấy một batch mẫu từ train_loader\u001b[39;00m\n\u001b[0;32m----> 4\u001b[0m images, age, density, labels \u001b[38;5;241m=\u001b[39m \u001b[38;5;28mnext\u001b[39m(\u001b[38;5;28miter\u001b[39m(\u001b[43mtrain_loader\u001b[49m))\n\u001b[1;32m      6\u001b[0m \u001b[38;5;66;03m# Chọn một mẫu để hiển thị (ở đây chọn mẫu đầu tiên trong batch)\u001b[39;00m\n\u001b[1;32m      7\u001b[0m img \u001b[38;5;241m=\u001b[39m images[\u001b[38;5;241m0\u001b[39m]\u001b[38;5;241m.\u001b[39mpermute(\u001b[38;5;241m1\u001b[39m, \u001b[38;5;241m2\u001b[39m, \u001b[38;5;241m0\u001b[39m)\u001b[38;5;241m.\u001b[39mnumpy()  \u001b[38;5;66;03m# Đổi thứ tự từ (C, H, W) thành (H, W, C) để vẽ ảnh\u001b[39;00m\n",
      "\u001b[0;31mNameError\u001b[0m: name 'train_loader' is not defined"
     ]
    }
   ],
   "source": [
    "import matplotlib.pyplot as plt\n",
    "\n",
    "# Lấy một batch mẫu từ train_loader\n",
    "images, age, density, labels = next(iter(train_loader))\n",
    "\n",
    "# Chọn một mẫu để hiển thị (ở đây chọn mẫu đầu tiên trong batch)\n",
    "img = images[0].permute(1, 2, 0).numpy()  # Đổi thứ tự từ (C, H, W) thành (H, W, C) để vẽ ảnh\n",
    "img = img * [0.229, 0.224, 0.225] + [0.485, 0.456, 0.406]  # Denormalize the image\n",
    "\n",
    "metadata = {\n",
    "    'Age': age[0].item(),\n",
    "    'Density': density[0].item(),\n",
    "    'Label': labels[5].item()  # Class label (được mã hóa dưới dạng số nguyên)\n",
    "}\n",
    "\n",
    "# Vẽ ảnh\n",
    "plt.imshow(img)\n",
    "plt.title(f\"Sample Image\\nMetadata: {metadata}\")\n",
    "plt.axis('off')\n",
    "plt.show()\n"
   ]
  },
  {
   "cell_type": "code",
   "execution_count": 14,
   "metadata": {},
   "outputs": [],
   "source": [
    "import torch\n",
    "import torch.nn as nn\n",
    "import torch.nn.functional as F\n",
    "from torchvision import models\n",
    "\n",
    "class MultimodalModel(nn.Module):\n",
    "    def __init__(self):\n",
    "        super(MultimodalModel, self).__init__()\n",
    "\n",
    "        # Image model using MobileNetV2\n",
    "        self.image_model = models.mobilenet_v2(weights='DEFAULT')  # Cập nhật để sử dụng weights\n",
    "        self.image_model.classifier = nn.Identity()  # Remove the final classification layer\n",
    "\n",
    "        # Metadata processing layers\n",
    "        self.age_norm = nn.BatchNorm1d(1)  # Normalize age\n",
    "\n",
    "        # Embedding layers for breast density\n",
    "        self.breast_density_emb = nn.Embedding(4, 4)  # Assuming 4 unique breast density categories\n",
    "\n",
    "        # Fully connected layers\n",
    "        self.fc_image = nn.Linear(1280, 512)\n",
    "        self.fc_metadata = nn.Linear(1 + 4, 512)  # 1 age + 4 breast_density\n",
    "\n",
    "        # Fully connected layer for final classification\n",
    "        self.fc_combined = nn.Linear(512 * 2, 5)  # Combine image and metadata features, số lớp là 5\n",
    "\n",
    "    def forward(self, x_image, age, breast_density):\n",
    "        # Process image\n",
    "        x_image = self.image_model(x_image)\n",
    "        x_image = F.relu(self.fc_image(x_image))\n",
    "\n",
    "        # Process metadata\n",
    "        age_norm = self.age_norm(age.view(-1, 1))  # Reshape age to be (batch_size, 1)\n",
    "\n",
    "        # Ensure breast_density is of type Long\n",
    "        breast_density = breast_density.long()  # Convert to Long\n",
    "\n",
    "        # Get embeddings for breast density\n",
    "        breast_density_emb = self.breast_density_emb(breast_density)\n",
    "\n",
    "        # Concatenate metadata features\n",
    "        metadata = torch.cat([age_norm, breast_density_emb], dim=1)  # Result will be (batch_size, 5)\n",
    "        x_metadata = F.relu(self.fc_metadata(metadata))\n",
    "\n",
    "        # Concatenate features from image and metadata\n",
    "        combined = torch.cat([x_image, x_metadata], dim=1)\n",
    "\n",
    "        # Final classification layer\n",
    "        output = self.fc_combined(combined)\n",
    "        return output\n"
   ]
  },
  {
   "cell_type": "code",
   "execution_count": 3,
   "metadata": {},
   "outputs": [
    {
     "ename": "NameError",
     "evalue": "name 'train_loader' is not defined",
     "output_type": "error",
     "traceback": [
      "\u001b[0;31m---------------------------------------------------------------------------\u001b[0m",
      "\u001b[0;31mNameError\u001b[0m                                 Traceback (most recent call last)",
      "Cell \u001b[0;32mIn[3], line 3\u001b[0m\n\u001b[1;32m      1\u001b[0m \u001b[38;5;28;01mfrom\u001b[39;00m \u001b[38;5;21;01mtqdm\u001b[39;00m \u001b[38;5;28;01mimport\u001b[39;00m tqdm \n\u001b[1;32m      2\u001b[0m num_epochs \u001b[38;5;241m=\u001b[39m \u001b[38;5;241m2\u001b[39m\n\u001b[0;32m----> 3\u001b[0m \u001b[38;5;28;01mfor\u001b[39;00m batch \u001b[38;5;129;01min\u001b[39;00m tqdm(\u001b[43mtrain_loader\u001b[49m, desc\u001b[38;5;241m=\u001b[39m\u001b[38;5;124mf\u001b[39m\u001b[38;5;124m\"\u001b[39m\u001b[38;5;124mEpoch \u001b[39m\u001b[38;5;132;01m{\u001b[39;00mepoch\u001b[38;5;241m+\u001b[39m\u001b[38;5;241m1\u001b[39m\u001b[38;5;132;01m}\u001b[39;00m\u001b[38;5;124m/\u001b[39m\u001b[38;5;132;01m{\u001b[39;00mnum_epochs\u001b[38;5;132;01m}\u001b[39;00m\u001b[38;5;124m [Train]\u001b[39m\u001b[38;5;124m\"\u001b[39m):\n\u001b[1;32m      4\u001b[0m     images, age, density, labels \u001b[38;5;241m=\u001b[39m batch\n\u001b[1;32m      6\u001b[0m     \u001b[38;5;66;03m# In ra kích thước và giá trị của các tensor\u001b[39;00m\n",
      "\u001b[0;31mNameError\u001b[0m: name 'train_loader' is not defined"
     ]
    }
   ],
   "source": [
    "from tqdm import tqdm \n",
    "num_epochs = 2\n",
    "for batch in tqdm(train_loader, desc=f\"Epoch {epoch+1}/{num_epochs} [Train]\"):\n",
    "    images, age, density, labels = batch\n",
    "    \n",
    "    # In ra kích thước và giá trị của các tensor\n",
    "    print(\"Images shape:\", images.shape)\n",
    "    print(\"Age shape:\", age.shape)\n",
    "    print(\"Density shape:\", density.shape)\n",
    "    print(\"Labels shape:\", labels.shape)\n",
    "    \n",
    "    # In ra một vài giá trị cụ thể để kiểm tra\n",
    "    # print(\"Sample images:\", images[0])  # In ra hình ảnh đầu tiên trong batch\n",
    "    print(\"Sample age:\", age[0])        # In ra giá trị tuổi đầu tiên trong batch\n",
    "    print(\"Sample density:\", density[0])  # In ra giá trị độ dày đầu tiên trong batch\n",
    "    print(\"Sample labels:\", labels[0])  # In ra nhãn đầu tiên trong batch\n",
    "\n",
    "    # Thêm câu lệnh break để chỉ xem một batch đầu tiên\n",
    "    break\n"
   ]
  },
  {
   "cell_type": "code",
   "execution_count": null,
   "metadata": {},
   "outputs": [],
   "source": [
    "# import numpy as np\n",
    "\n",
    "# # Giả sử bạn đã lấy nhãn từ train_loader\n",
    "# for batch in train_loader:\n",
    "#     images, age, density, labels = batch\n",
    "#     print(\"Unique labels in the batch:\", np.unique(labels.numpy()))\n",
    "\n"
   ]
  },
  {
   "cell_type": "code",
   "execution_count": 10,
   "metadata": {
    "colab": {
     "base_uri": "https://localhost:8080/",
     "height": 480
    },
    "executionInfo": {
     "elapsed": 4716,
     "status": "error",
     "timestamp": 1727183024691,
     "user": {
      "displayName": "Chuyên Mai Tất",
      "userId": "15723878358474830250"
     },
     "user_tz": -420
    },
    "id": "Gi4lXccAGm4-",
    "outputId": "79c4511e-03fc-46c5-a3c3-aea1458e7150",
    "scrolled": true
   },
   "outputs": [
    {
     "name": "stderr",
     "output_type": "stream",
     "text": [
      "Epoch 1/30 [Train]: 100%|█████████████████████████████████████████████████████████████| 449/449 [00:16<00:00, 27.48it/s]\n"
     ]
    },
    {
     "name": "stdout",
     "output_type": "stream",
     "text": [
      "Epoch [1/30], Loss: 0.9769, Train Accuracy: 0.6529\n"
     ]
    },
    {
     "name": "stderr",
     "output_type": "stream",
     "text": [
      "Epoch 2/30 [Train]: 100%|█████████████████████████████████████████████████████████████| 449/449 [00:16<00:00, 27.75it/s]\n"
     ]
    },
    {
     "name": "stdout",
     "output_type": "stream",
     "text": [
      "Epoch [2/30], Loss: 0.9172, Train Accuracy: 0.6573\n"
     ]
    },
    {
     "name": "stderr",
     "output_type": "stream",
     "text": [
      "Epoch 3/30 [Train]: 100%|█████████████████████████████████████████████████████████████| 449/449 [00:16<00:00, 27.34it/s]\n"
     ]
    },
    {
     "name": "stdout",
     "output_type": "stream",
     "text": [
      "Epoch [3/30], Loss: 0.8461, Train Accuracy: 0.6699\n"
     ]
    },
    {
     "name": "stderr",
     "output_type": "stream",
     "text": [
      "Epoch 4/30 [Train]: 100%|█████████████████████████████████████████████████████████████| 449/449 [00:16<00:00, 27.30it/s]\n"
     ]
    },
    {
     "name": "stdout",
     "output_type": "stream",
     "text": [
      "Epoch [4/30], Loss: 0.7586, Train Accuracy: 0.6908\n"
     ]
    },
    {
     "name": "stderr",
     "output_type": "stream",
     "text": [
      "Epoch 5/30 [Train]: 100%|█████████████████████████████████████████████████████████████| 449/449 [00:16<00:00, 27.15it/s]\n"
     ]
    },
    {
     "name": "stdout",
     "output_type": "stream",
     "text": [
      "Epoch [5/30], Loss: 0.6376, Train Accuracy: 0.7289\n"
     ]
    },
    {
     "name": "stderr",
     "output_type": "stream",
     "text": [
      "Epoch 6/30 [Train]: 100%|█████████████████████████████████████████████████████████████| 449/449 [00:16<00:00, 26.93it/s]\n"
     ]
    },
    {
     "name": "stdout",
     "output_type": "stream",
     "text": [
      "Epoch [6/30], Loss: 0.5169, Train Accuracy: 0.7864\n"
     ]
    },
    {
     "name": "stderr",
     "output_type": "stream",
     "text": [
      "Epoch 7/30 [Train]: 100%|█████████████████████████████████████████████████████████████| 449/449 [00:16<00:00, 27.46it/s]\n"
     ]
    },
    {
     "name": "stdout",
     "output_type": "stream",
     "text": [
      "Epoch [7/30], Loss: 0.3804, Train Accuracy: 0.8485\n"
     ]
    },
    {
     "name": "stderr",
     "output_type": "stream",
     "text": [
      "Epoch 8/30 [Train]: 100%|█████████████████████████████████████████████████████████████| 449/449 [00:16<00:00, 27.24it/s]\n"
     ]
    },
    {
     "name": "stdout",
     "output_type": "stream",
     "text": [
      "Epoch [8/30], Loss: 0.2788, Train Accuracy: 0.8945\n"
     ]
    },
    {
     "name": "stderr",
     "output_type": "stream",
     "text": [
      "Epoch 9/30 [Train]: 100%|█████████████████████████████████████████████████████████████| 449/449 [00:16<00:00, 27.53it/s]\n"
     ]
    },
    {
     "name": "stdout",
     "output_type": "stream",
     "text": [
      "Epoch [9/30], Loss: 0.2142, Train Accuracy: 0.9203\n"
     ]
    },
    {
     "name": "stderr",
     "output_type": "stream",
     "text": [
      "Epoch 10/30 [Train]: 100%|████████████████████████████████████████████████████████████| 449/449 [00:16<00:00, 27.47it/s]\n"
     ]
    },
    {
     "name": "stdout",
     "output_type": "stream",
     "text": [
      "Epoch [10/30], Loss: 0.1561, Train Accuracy: 0.9417\n"
     ]
    },
    {
     "name": "stderr",
     "output_type": "stream",
     "text": [
      "Epoch 11/30 [Train]: 100%|████████████████████████████████████████████████████████████| 449/449 [00:16<00:00, 27.25it/s]\n"
     ]
    },
    {
     "name": "stdout",
     "output_type": "stream",
     "text": [
      "Epoch [11/30], Loss: 0.1460, Train Accuracy: 0.9457\n"
     ]
    },
    {
     "name": "stderr",
     "output_type": "stream",
     "text": [
      "Epoch 12/30 [Train]: 100%|████████████████████████████████████████████████████████████| 449/449 [00:16<00:00, 27.39it/s]\n"
     ]
    },
    {
     "name": "stdout",
     "output_type": "stream",
     "text": [
      "Epoch [12/30], Loss: 0.1251, Train Accuracy: 0.9549\n"
     ]
    },
    {
     "name": "stderr",
     "output_type": "stream",
     "text": [
      "Epoch 13/30 [Train]: 100%|████████████████████████████████████████████████████████████| 449/449 [00:16<00:00, 26.94it/s]\n"
     ]
    },
    {
     "name": "stdout",
     "output_type": "stream",
     "text": [
      "Epoch [13/30], Loss: 0.1100, Train Accuracy: 0.9614\n"
     ]
    },
    {
     "name": "stderr",
     "output_type": "stream",
     "text": [
      "Epoch 14/30 [Train]: 100%|████████████████████████████████████████████████████████████| 449/449 [00:16<00:00, 27.21it/s]\n"
     ]
    },
    {
     "name": "stdout",
     "output_type": "stream",
     "text": [
      "Epoch [14/30], Loss: 0.0953, Train Accuracy: 0.9674\n"
     ]
    },
    {
     "name": "stderr",
     "output_type": "stream",
     "text": [
      "Epoch 15/30 [Train]: 100%|████████████████████████████████████████████████████████████| 449/449 [00:16<00:00, 27.37it/s]\n"
     ]
    },
    {
     "name": "stdout",
     "output_type": "stream",
     "text": [
      "Epoch [15/30], Loss: 0.1163, Train Accuracy: 0.9596\n"
     ]
    },
    {
     "name": "stderr",
     "output_type": "stream",
     "text": [
      "Epoch 16/30 [Train]: 100%|████████████████████████████████████████████████████████████| 449/449 [00:16<00:00, 27.08it/s]\n"
     ]
    },
    {
     "name": "stdout",
     "output_type": "stream",
     "text": [
      "Epoch [16/30], Loss: 0.0967, Train Accuracy: 0.9669\n"
     ]
    },
    {
     "name": "stderr",
     "output_type": "stream",
     "text": [
      "Epoch 17/30 [Train]: 100%|████████████████████████████████████████████████████████████| 449/449 [00:16<00:00, 26.79it/s]\n"
     ]
    },
    {
     "name": "stdout",
     "output_type": "stream",
     "text": [
      "Epoch [17/30], Loss: 0.0775, Train Accuracy: 0.9725\n"
     ]
    },
    {
     "name": "stderr",
     "output_type": "stream",
     "text": [
      "Epoch 18/30 [Train]: 100%|████████████████████████████████████████████████████████████| 449/449 [00:16<00:00, 27.17it/s]\n"
     ]
    },
    {
     "name": "stdout",
     "output_type": "stream",
     "text": [
      "Epoch [18/30], Loss: 0.0837, Train Accuracy: 0.9736\n"
     ]
    },
    {
     "name": "stderr",
     "output_type": "stream",
     "text": [
      "Epoch 19/30 [Train]: 100%|████████████████████████████████████████████████████████████| 449/449 [00:16<00:00, 27.06it/s]\n"
     ]
    },
    {
     "name": "stdout",
     "output_type": "stream",
     "text": [
      "Epoch [19/30], Loss: 0.0868, Train Accuracy: 0.9694\n"
     ]
    },
    {
     "name": "stderr",
     "output_type": "stream",
     "text": [
      "Epoch 20/30 [Train]: 100%|████████████████████████████████████████████████████████████| 449/449 [00:16<00:00, 27.38it/s]\n"
     ]
    },
    {
     "name": "stdout",
     "output_type": "stream",
     "text": [
      "Epoch [20/30], Loss: 0.0699, Train Accuracy: 0.9749\n"
     ]
    },
    {
     "name": "stderr",
     "output_type": "stream",
     "text": [
      "Epoch 21/30 [Train]: 100%|████████████████████████████████████████████████████████████| 449/449 [00:16<00:00, 26.80it/s]\n"
     ]
    },
    {
     "name": "stdout",
     "output_type": "stream",
     "text": [
      "Epoch [21/30], Loss: 0.0675, Train Accuracy: 0.9758\n"
     ]
    },
    {
     "name": "stderr",
     "output_type": "stream",
     "text": [
      "Epoch 22/30 [Train]: 100%|████████████████████████████████████████████████████████████| 449/449 [00:16<00:00, 27.33it/s]\n"
     ]
    },
    {
     "name": "stdout",
     "output_type": "stream",
     "text": [
      "Epoch [22/30], Loss: 0.0795, Train Accuracy: 0.9718\n"
     ]
    },
    {
     "name": "stderr",
     "output_type": "stream",
     "text": [
      "Epoch 23/30 [Train]: 100%|████████████████████████████████████████████████████████████| 449/449 [00:16<00:00, 27.32it/s]\n"
     ]
    },
    {
     "name": "stdout",
     "output_type": "stream",
     "text": [
      "Epoch [23/30], Loss: 0.0570, Train Accuracy: 0.9803\n"
     ]
    },
    {
     "name": "stderr",
     "output_type": "stream",
     "text": [
      "Epoch 24/30 [Train]: 100%|████████████████████████████████████████████████████████████| 449/449 [00:16<00:00, 27.37it/s]\n"
     ]
    },
    {
     "name": "stdout",
     "output_type": "stream",
     "text": [
      "Epoch [24/30], Loss: 0.0605, Train Accuracy: 0.9796\n"
     ]
    },
    {
     "name": "stderr",
     "output_type": "stream",
     "text": [
      "Epoch 25/30 [Train]: 100%|████████████████████████████████████████████████████████████| 449/449 [00:16<00:00, 27.20it/s]\n"
     ]
    },
    {
     "name": "stdout",
     "output_type": "stream",
     "text": [
      "Epoch [25/30], Loss: 0.0680, Train Accuracy: 0.9768\n"
     ]
    },
    {
     "name": "stderr",
     "output_type": "stream",
     "text": [
      "Epoch 26/30 [Train]: 100%|████████████████████████████████████████████████████████████| 449/449 [00:16<00:00, 27.37it/s]\n"
     ]
    },
    {
     "name": "stdout",
     "output_type": "stream",
     "text": [
      "Epoch [26/30], Loss: 0.0633, Train Accuracy: 0.9772\n"
     ]
    },
    {
     "name": "stderr",
     "output_type": "stream",
     "text": [
      "Epoch 27/30 [Train]: 100%|████████████████████████████████████████████████████████████| 449/449 [00:16<00:00, 27.30it/s]\n"
     ]
    },
    {
     "name": "stdout",
     "output_type": "stream",
     "text": [
      "Epoch [27/30], Loss: 0.0621, Train Accuracy: 0.9774\n"
     ]
    },
    {
     "name": "stderr",
     "output_type": "stream",
     "text": [
      "Epoch 28/30 [Train]: 100%|████████████████████████████████████████████████████████████| 449/449 [00:16<00:00, 27.12it/s]\n"
     ]
    },
    {
     "name": "stdout",
     "output_type": "stream",
     "text": [
      "Epoch [28/30], Loss: 0.0596, Train Accuracy: 0.9791\n"
     ]
    },
    {
     "name": "stderr",
     "output_type": "stream",
     "text": [
      "Epoch 29/30 [Train]: 100%|████████████████████████████████████████████████████████████| 449/449 [00:16<00:00, 27.24it/s]\n"
     ]
    },
    {
     "name": "stdout",
     "output_type": "stream",
     "text": [
      "Epoch [29/30], Loss: 0.0634, Train Accuracy: 0.9767\n"
     ]
    },
    {
     "name": "stderr",
     "output_type": "stream",
     "text": [
      "Epoch 30/30 [Train]: 100%|████████████████████████████████████████████████████████████| 449/449 [00:16<00:00, 27.28it/s]"
     ]
    },
    {
     "name": "stdout",
     "output_type": "stream",
     "text": [
      "Epoch [30/30], Loss: 0.0623, Train Accuracy: 0.9794\n"
     ]
    },
    {
     "name": "stderr",
     "output_type": "stream",
     "text": [
      "\n"
     ]
    }
   ],
   "source": [
    "import torch\n",
    "import torch.optim as optim\n",
    "import torch.nn as nn\n",
    "from sklearn.metrics import accuracy_score\n",
    "import matplotlib.pyplot as plt\n",
    "from tqdm import tqdm   \n",
    "\n",
    " \n",
    "model = MultimodalModel()   \n",
    "device = torch.device(\"cuda\" if torch.cuda.is_available() else \"cpu\")\n",
    "model.to(device)\n",
    " \n",
    "train_losses, val_losses = [], []\n",
    "train_accuracies, val_accuracies = [], []\n",
    " \n",
    "\n",
    "criterion = nn.CrossEntropyLoss()  # Sử dụng CrossEntropyLoss cho phân loại đa lớp\n",
    "optimizer = optim.Adam(model.parameters(), lr=1e-4)   \n",
    "\n",
    "num_epochs = 30\n",
    "\n",
    "# Bắt đầu quá trình huấn luyện\n",
    "for epoch in range(num_epochs):\n",
    "    model.train()\n",
    "    train_loss = 0\n",
    "    train_true, train_pred = [], []\n",
    " \n",
    "    for batch in tqdm(train_loader, desc=f\"Epoch {epoch+1}/{num_epochs} [Train]\"):\n",
    "        images, age, density, labels = batch\n",
    "        images, age, density, labels = (\n",
    "            images.to(device),\n",
    "            age.to(device),\n",
    "            density.to(device),\n",
    "            labels.to(device)  # Nhãn không cần chuyển đổi sang float\n",
    "        )\n",
    "\n",
    "        # Forward pass\n",
    "        outputs = model(images, age, density)\n",
    "\n",
    "        # Tính loss\n",
    "        loss = criterion(outputs, labels)   \n",
    "\n",
    "        # Dự đoán nhãn\n",
    "        _, predicted_labels = torch.max(outputs, 1)  # Lấy nhãn có xác suất cao nhất\n",
    "        train_true.extend(labels.cpu().numpy())\n",
    "        train_pred.extend(predicted_labels.cpu().numpy())  # Chuyển predicted_labels sang numpy\n",
    "\n",
    "        # Backward pass và optimize\n",
    "        optimizer.zero_grad()\n",
    "        loss.backward()\n",
    "        optimizer.step()\n",
    "\n",
    "        # Cộng dồn loss cho epoch\n",
    "        train_loss += loss.item()  # Cộng dồn giá trị loss của batch\n",
    "\n",
    "    # Tính độ chính xác trên tập train\n",
    "    train_acc = accuracy_score(train_true, train_pred)\n",
    "    train_losses.append(train_loss / len(train_loader))  # Trung bình loss\n",
    "    train_accuracies.append(train_acc)\n",
    "\n",
    "    print(f\"Epoch [{epoch + 1}/{num_epochs}], Loss: {train_loss / len(train_loader):.4f}, Train Accuracy: {train_acc:.4f}\")"
   ]
  },
  {
   "cell_type": "code",
   "execution_count": 16,
   "metadata": {},
   "outputs": [
    {
     "name": "stdout",
     "output_type": "stream",
     "text": [
      "Model loaded successfully!\n"
     ]
    },
    {
     "name": "stderr",
     "output_type": "stream",
     "text": [
      "/tmp/ipykernel_16054/1316474908.py:7: FutureWarning: You are using `torch.load` with `weights_only=False` (the current default value), which uses the default pickle module implicitly. It is possible to construct malicious pickle data which will execute arbitrary code during unpickling (See https://github.com/pytorch/pytorch/blob/main/SECURITY.md#untrusted-models for more details). In a future release, the default value for `weights_only` will be flipped to `True`. This limits the functions that could be executed during unpickling. Arbitrary objects will no longer be allowed to be loaded via this mode unless they are explicitly allowlisted by the user via `torch.serialization.add_safe_globals`. We recommend you start setting `weights_only=True` for any use case where you don't have full control of the loaded file. Please open an issue on GitHub for any issues related to this experimental feature.\n",
      "  model.load_state_dict(torch.load('/media/mountHDD2/chuyenmt/Dataset/VinDr-Mammo/Processed/multimodal_model_weights.pth'))\n"
     ]
    }
   ],
   "source": [
    "# Khởi tạo mô hình\n",
    "model = MultimodalModel()   \n",
    "device = torch.device(\"cuda\" if torch.cuda.is_available() else \"cpu\")\n",
    "model.to(device)\n",
    "\n",
    "# Load trọng số mô hình đã lưu\n",
    "model.load_state_dict(torch.load('/media/mountHDD2/chuyenmt/Dataset/VinDr-Mammo/Processed/multimodal_model_weights.pth'))\n",
    "\n",
    "# Đặt mô hình vào chế độ evaluation\n",
    "model.eval()\n",
    "\n",
    "print(\"Model loaded successfully!\")\n",
    "\n",
    "# Bây giờ bạn có thể sử dụng mô hình để đánh giá hoặc dự đoán trên tập dữ liệu test\n"
   ]
  },
  {
   "cell_type": "code",
   "execution_count": 17,
   "metadata": {},
   "outputs": [
    {
     "name": "stderr",
     "output_type": "stream",
     "text": [
      "Testing: 100%|██████████████████████████████████████████████████████████████████████████| 64/64 [00:01<00:00, 63.80it/s]\n"
     ]
    },
    {
     "name": "stdout",
     "output_type": "stream",
     "text": [
      "Test Loss: 0.8820, Test Accuracy: 0.8809\n",
      "  Class  Sensitivity (%)  Specificity (%)  Precision (%)  Accuracy (%)\n",
      "0    C1        93.885160        79.915134      89.864383     89.062500\n",
      "1    C2        77.516060        95.192916      82.648402     91.162109\n",
      "2    C3        68.750000        99.487705      86.842105     98.046875\n",
      "3    C4        81.000000        99.281314      85.263158     98.388672\n",
      "4    C5        81.818182        99.900200      94.736842     99.511719\n"
     ]
    },
    {
     "data": {
      "image/png": "[encoded data removed]",
      "text/plain": [
       "<Figure size 1000x600 with 1 Axes>"
      ]
     },
     "metadata": {},
     "output_type": "display_data"
    }
   ],
   "source": [
    "from sklearn.metrics import confusion_matrix, ConfusionMatrixDisplay\n",
    "import numpy as np\n",
    "import torch\n",
    "import torch.optim as optim\n",
    "import torch.nn as nn\n",
    "from sklearn.metrics import accuracy_score\n",
    "import matplotlib.pyplot as plt\n",
    "from tqdm import tqdm   \n",
    " \n",
    "\n",
    "criterion = nn.CrossEntropyLoss()  # Sử dụng CrossEntropyLoss cho phân loại đa lớp\n",
    "test_loss = 0\n",
    "test_true, test_pred = [], []\n",
    "\n",
    "with torch.no_grad():  # Tắt gradient để tăng tốc độ tính toán\n",
    "    for batch in tqdm(test_loader, desc=\"Testing\"):\n",
    "        images, age, density, labels = batch\n",
    "        images, age, density, labels = (\n",
    "            images.to(device),\n",
    "            age.to(device),\n",
    "            density.to(device),\n",
    "            labels.to(device)\n",
    "        )\n",
    "\n",
    "        # Forward pass\n",
    "        outputs = model(images, age, density)\n",
    "\n",
    "        # Tính loss\n",
    "        loss = criterion(outputs, labels)\n",
    "        test_loss += loss.item()  # Cộng dồn loss\n",
    "\n",
    "        # Dự đoán nhãn\n",
    "        _, predicted_labels = torch.max(outputs, 1)\n",
    "        test_true.extend(labels.cpu().numpy())\n",
    "        test_pred.extend(predicted_labels.cpu().numpy())\n",
    "\n",
    "# Tính độ chính xác trên tập test\n",
    "test_acc = accuracy_score(test_true, test_pred)\n",
    "test_loss /= len(test_loader)  # Trung bình loss\n",
    " \n",
    "print(f\"Test Loss: {test_loss:.4f}, Test Accuracy: {test_acc:.4f}\")\n",
    "import numpy as np\n",
    "import pandas as pd\n",
    "import seaborn as sns\n",
    "import matplotlib.pyplot as plt\n",
    "from sklearn.metrics import confusion_matrix\n",
    "\n",
    "# Tính toán confusion matrix\n",
    "conf_matrix = confusion_matrix(test_true, test_pred)\n",
    "\n",
    "# Initialize lists to store metrics for each class\n",
    "sensitivity = []\n",
    "specificity = []\n",
    "precision = []\n",
    "accuracy = []\n",
    "\n",
    "# Calculate metrics for each class\n",
    "for i in range(len(conf_matrix)):\n",
    "    TP = conf_matrix[i, i]\n",
    "    FN = np.sum(conf_matrix[i, :]) - TP\n",
    "    FP = np.sum(conf_matrix[:, i]) - TP\n",
    "    TN = np.sum(conf_matrix) - (TP + FN + FP)\n",
    "\n",
    "    sen = TP / (TP + FN) if (TP + FN) != 0 else 0\n",
    "    spe = TN / (TN + FP) if (TN + FP) != 0 else 0\n",
    "    ppr = TP / (TP + FP) if (TP + FP) != 0 else 0\n",
    "    acc = (TP + TN) / (TP + TN + FP + FN) if (TP + TN + FP + FN) != 0 else 0\n",
    "\n",
    "    sensitivity.append(sen * 100)\n",
    "    specificity.append(spe * 100)\n",
    "    precision.append(ppr * 100)\n",
    "    accuracy.append(acc * 100)\n",
    "\n",
    "# Display the results in a table\n",
    "results_df = pd.DataFrame({\n",
    "    'Class': [f'C{i+1}' for i in range(len(conf_matrix))],\n",
    "    'Sensitivity (%)': sensitivity,\n",
    "    'Specificity (%)': specificity,\n",
    "    'Precision (%)': precision,\n",
    "    'Accuracy (%)': accuracy\n",
    "})\n",
    "\n",
    "print(results_df)\n",
    "\n",
    "# Plot the confusion matrix\n",
    "plt.figure(figsize=(10, 6))\n",
    "sns.heatmap(conf_matrix, annot=True, fmt='d', cmap='Blues', cbar=False)\n",
    "plt.xlabel('Predicted Class')\n",
    "plt.ylabel('True Class')\n",
    "plt.title(f'Confusion Matrix - Test Accuracy: {test_acc:.4f}')\n",
    "plt.show()\n",
    " \n",
    "  \n"
   ]
  },
  {
   "cell_type": "code",
   "execution_count": 18,
   "metadata": {},
   "outputs": [
    {
     "name": "stdout",
     "output_type": "stream",
     "text": [
      "Confusion matrix saved to: /media/mountHDD2/chuyenmt/BrEaST/Mammo/Output/confusion_matrix.png\n",
      "Results saved to: /media/mountHDD2/chuyenmt/BrEaST/Mammo/Output/results.csv\n"
     ]
    }
   ],
   "source": [
    "import os\n",
    "\n",
    "# Tạo thư mục 'output' nếu chưa tồn tại\n",
    "output_folder = '/media/mountHDD2/chuyenmt/BrEaST/Mammo/Output'\n",
    " \n",
    "\n",
    "# Lưu confusion matrix dưới dạng hình ảnh\n",
    "conf_matrix_path = os.path.join(output_folder, 'confusion_matrix.png')\n",
    "plt.figure(figsize=(10, 6))\n",
    "sns.heatmap(conf_matrix, annot=True, fmt='d', cmap='Blues', cbar=False)\n",
    "plt.xlabel('Predicted Class')\n",
    "plt.ylabel('True Class')\n",
    "plt.title(f'Confusion Matrix - Test Accuracy: {test_acc:.4f}')\n",
    "plt.savefig(conf_matrix_path)  # Lưu hình ảnh\n",
    "plt.close()  # Đóng figure để giải phóng bộ nhớ\n",
    "\n",
    "print(f\"Confusion matrix saved to: {conf_matrix_path}\")\n",
    "\n",
    "# Lưu bảng results_df dưới dạng CSV\n",
    "results_path = os.path.join(output_folder, 'results.csv')\n",
    "results_df.to_csv(results_path, index=False)\n",
    "\n",
    "print(f\"Results saved to: {results_path}\")"
   ]
  },
  {
   "cell_type": "code",
   "execution_count": null,
   "metadata": {},
   "outputs": [],
   "source": [
    "output_folder = f'output_{args.model}'\n",
    "os.makedirs(output_folder, exist_ok=True)"
   ]
  }
 ],
 "metadata": {
  "colab": {
   "authorship_tag": "ABX9TyPC2yJRPwIb10kvdCCbYq5a",
   "mount_file_id": "1HkfMOnSwiJuBX-OQVKfWSO_5G3CjeTPM",
   "provenance": []
  },
  "kernelspec": {
   "display_name": "Python 3 (ipykernel)",
   "language": "python",
   "name": "python3"
  },
  "language_info": {
   "codemirror_mode": {
    "name": "ipython",
    "version": 3
   },
   "file_extension": ".py",
   "mimetype": "text/x-python",
   "name": "python",
   "nbconvert_exporter": "python",
   "pygments_lexer": "ipython3",
   "version": "3.10.12"
  }
 },
 "nbformat": 4,
 "nbformat_minor": 4
}
